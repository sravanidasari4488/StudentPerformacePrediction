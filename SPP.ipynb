{
  "nbformat": 4,
  "nbformat_minor": 0,
  "metadata": {
    "colab": {
      "provenance": [],
      "authorship_tag": "ABX9TyMwQ+MMHBTsHrunNwl0ULIq",
      "include_colab_link": true
    },
    "kernelspec": {
      "name": "python3",
      "display_name": "Python 3"
    },
    "language_info": {
      "name": "python"
    }
  },
  "cells": [
    {
      "cell_type": "markdown",
      "metadata": {
        "id": "view-in-github",
        "colab_type": "text"
      },
      "source": [
        "<a href=\"https://colab.research.google.com/github/sravanidasari4488/StudentPerformacePrediction/blob/main/SPP.ipynb\" target=\"_parent\"><img src=\"https://colab.research.google.com/assets/colab-badge.svg\" alt=\"Open In Colab\"/></a>"
      ]
    },
    {
      "cell_type": "code",
      "execution_count": null,
      "metadata": {
        "id": "bMAV9j6yNsY2"
      },
      "outputs": [],
      "source": [
        "import numpy as np\n",
        "import pandas as pd\n",
        "import warnings; warnings.simplefilter('ignore')"
      ]
    },
    {
      "cell_type": "code",
      "source": [
        "data_por = pd.read_csv('student-por.csv')\n",
        "data_mat = pd.read_csv('student-mat.csv')"
      ],
      "metadata": {
        "id": "lLapciHaOxqz"
      },
      "execution_count": null,
      "outputs": []
    },
    {
      "cell_type": "code",
      "source": [
        "y_por = data_por.iloc[:, -1]\n",
        "y_mat = data_mat.iloc[:, -1]"
      ],
      "metadata": {
        "id": "h1I9ky2RO2dD"
      },
      "execution_count": null,
      "outputs": []
    },
    {
      "cell_type": "code",
      "source": [
        "data_por = data_por.drop(['G1', 'G2', 'G3'], axis=1)\n",
        "data_mat = data_mat.drop(['G1', 'G2', 'G3'], axis=1)\n",
        "data_por.head()"
      ],
      "metadata": {
        "colab": {
          "base_uri": "https://localhost:8080/",
          "height": 255
        },
        "id": "1E2OB5gyO8Av",
        "outputId": "d9ab439e-3d3d-4969-9065-bd5b2e3d2058"
      },
      "execution_count": null,
      "outputs": [
        {
          "output_type": "execute_result",
          "data": {
            "text/plain": [
              "  school sex  age address famsize Pstatus  Medu  Fedu     Mjob      Fjob  ...  \\\n",
              "0     GP   F   18       U     GT3       A     4     4  at_home   teacher  ...   \n",
              "1     GP   F   17       U     GT3       T     1     1  at_home     other  ...   \n",
              "2     GP   F   15       U     LE3       T     1     1  at_home     other  ...   \n",
              "3     GP   F   15       U     GT3       T     4     2   health  services  ...   \n",
              "4     GP   F   16       U     GT3       T     3     3    other     other  ...   \n",
              "\n",
              "  higher internet  romantic  famrel  freetime goout Dalc Walc health absences  \n",
              "0    yes       no        no       4         3     4    1    1      3        4  \n",
              "1    yes      yes        no       5         3     3    1    1      3        2  \n",
              "2    yes      yes        no       4         3     2    2    3      3        6  \n",
              "3    yes      yes       yes       3         2     2    1    1      5        0  \n",
              "4    yes       no        no       4         3     2    1    2      5        0  \n",
              "\n",
              "[5 rows x 30 columns]"
            ],
            "text/html": [
              "\n",
              "  <div id=\"df-f7a4bff2-9a64-49ac-bc7f-6d4c981db77b\" class=\"colab-df-container\">\n",
              "    <div>\n",
              "<style scoped>\n",
              "    .dataframe tbody tr th:only-of-type {\n",
              "        vertical-align: middle;\n",
              "    }\n",
              "\n",
              "    .dataframe tbody tr th {\n",
              "        vertical-align: top;\n",
              "    }\n",
              "\n",
              "    .dataframe thead th {\n",
              "        text-align: right;\n",
              "    }\n",
              "</style>\n",
              "<table border=\"1\" class=\"dataframe\">\n",
              "  <thead>\n",
              "    <tr style=\"text-align: right;\">\n",
              "      <th></th>\n",
              "      <th>school</th>\n",
              "      <th>sex</th>\n",
              "      <th>age</th>\n",
              "      <th>address</th>\n",
              "      <th>famsize</th>\n",
              "      <th>Pstatus</th>\n",
              "      <th>Medu</th>\n",
              "      <th>Fedu</th>\n",
              "      <th>Mjob</th>\n",
              "      <th>Fjob</th>\n",
              "      <th>...</th>\n",
              "      <th>higher</th>\n",
              "      <th>internet</th>\n",
              "      <th>romantic</th>\n",
              "      <th>famrel</th>\n",
              "      <th>freetime</th>\n",
              "      <th>goout</th>\n",
              "      <th>Dalc</th>\n",
              "      <th>Walc</th>\n",
              "      <th>health</th>\n",
              "      <th>absences</th>\n",
              "    </tr>\n",
              "  </thead>\n",
              "  <tbody>\n",
              "    <tr>\n",
              "      <th>0</th>\n",
              "      <td>GP</td>\n",
              "      <td>F</td>\n",
              "      <td>18</td>\n",
              "      <td>U</td>\n",
              "      <td>GT3</td>\n",
              "      <td>A</td>\n",
              "      <td>4</td>\n",
              "      <td>4</td>\n",
              "      <td>at_home</td>\n",
              "      <td>teacher</td>\n",
              "      <td>...</td>\n",
              "      <td>yes</td>\n",
              "      <td>no</td>\n",
              "      <td>no</td>\n",
              "      <td>4</td>\n",
              "      <td>3</td>\n",
              "      <td>4</td>\n",
              "      <td>1</td>\n",
              "      <td>1</td>\n",
              "      <td>3</td>\n",
              "      <td>4</td>\n",
              "    </tr>\n",
              "    <tr>\n",
              "      <th>1</th>\n",
              "      <td>GP</td>\n",
              "      <td>F</td>\n",
              "      <td>17</td>\n",
              "      <td>U</td>\n",
              "      <td>GT3</td>\n",
              "      <td>T</td>\n",
              "      <td>1</td>\n",
              "      <td>1</td>\n",
              "      <td>at_home</td>\n",
              "      <td>other</td>\n",
              "      <td>...</td>\n",
              "      <td>yes</td>\n",
              "      <td>yes</td>\n",
              "      <td>no</td>\n",
              "      <td>5</td>\n",
              "      <td>3</td>\n",
              "      <td>3</td>\n",
              "      <td>1</td>\n",
              "      <td>1</td>\n",
              "      <td>3</td>\n",
              "      <td>2</td>\n",
              "    </tr>\n",
              "    <tr>\n",
              "      <th>2</th>\n",
              "      <td>GP</td>\n",
              "      <td>F</td>\n",
              "      <td>15</td>\n",
              "      <td>U</td>\n",
              "      <td>LE3</td>\n",
              "      <td>T</td>\n",
              "      <td>1</td>\n",
              "      <td>1</td>\n",
              "      <td>at_home</td>\n",
              "      <td>other</td>\n",
              "      <td>...</td>\n",
              "      <td>yes</td>\n",
              "      <td>yes</td>\n",
              "      <td>no</td>\n",
              "      <td>4</td>\n",
              "      <td>3</td>\n",
              "      <td>2</td>\n",
              "      <td>2</td>\n",
              "      <td>3</td>\n",
              "      <td>3</td>\n",
              "      <td>6</td>\n",
              "    </tr>\n",
              "    <tr>\n",
              "      <th>3</th>\n",
              "      <td>GP</td>\n",
              "      <td>F</td>\n",
              "      <td>15</td>\n",
              "      <td>U</td>\n",
              "      <td>GT3</td>\n",
              "      <td>T</td>\n",
              "      <td>4</td>\n",
              "      <td>2</td>\n",
              "      <td>health</td>\n",
              "      <td>services</td>\n",
              "      <td>...</td>\n",
              "      <td>yes</td>\n",
              "      <td>yes</td>\n",
              "      <td>yes</td>\n",
              "      <td>3</td>\n",
              "      <td>2</td>\n",
              "      <td>2</td>\n",
              "      <td>1</td>\n",
              "      <td>1</td>\n",
              "      <td>5</td>\n",
              "      <td>0</td>\n",
              "    </tr>\n",
              "    <tr>\n",
              "      <th>4</th>\n",
              "      <td>GP</td>\n",
              "      <td>F</td>\n",
              "      <td>16</td>\n",
              "      <td>U</td>\n",
              "      <td>GT3</td>\n",
              "      <td>T</td>\n",
              "      <td>3</td>\n",
              "      <td>3</td>\n",
              "      <td>other</td>\n",
              "      <td>other</td>\n",
              "      <td>...</td>\n",
              "      <td>yes</td>\n",
              "      <td>no</td>\n",
              "      <td>no</td>\n",
              "      <td>4</td>\n",
              "      <td>3</td>\n",
              "      <td>2</td>\n",
              "      <td>1</td>\n",
              "      <td>2</td>\n",
              "      <td>5</td>\n",
              "      <td>0</td>\n",
              "    </tr>\n",
              "  </tbody>\n",
              "</table>\n",
              "<p>5 rows × 30 columns</p>\n",
              "</div>\n",
              "    <div class=\"colab-df-buttons\">\n",
              "\n",
              "  <div class=\"colab-df-container\">\n",
              "    <button class=\"colab-df-convert\" onclick=\"convertToInteractive('df-f7a4bff2-9a64-49ac-bc7f-6d4c981db77b')\"\n",
              "            title=\"Convert this dataframe to an interactive table.\"\n",
              "            style=\"display:none;\">\n",
              "\n",
              "  <svg xmlns=\"http://www.w3.org/2000/svg\" height=\"24px\" viewBox=\"0 -960 960 960\">\n",
              "    <path d=\"M120-120v-720h720v720H120Zm60-500h600v-160H180v160Zm220 220h160v-160H400v160Zm0 220h160v-160H400v160ZM180-400h160v-160H180v160Zm440 0h160v-160H620v160ZM180-180h160v-160H180v160Zm440 0h160v-160H620v160Z\"/>\n",
              "  </svg>\n",
              "    </button>\n",
              "\n",
              "  <style>\n",
              "    .colab-df-container {\n",
              "      display:flex;\n",
              "      gap: 12px;\n",
              "    }\n",
              "\n",
              "    .colab-df-convert {\n",
              "      background-color: #E8F0FE;\n",
              "      border: none;\n",
              "      border-radius: 50%;\n",
              "      cursor: pointer;\n",
              "      display: none;\n",
              "      fill: #1967D2;\n",
              "      height: 32px;\n",
              "      padding: 0 0 0 0;\n",
              "      width: 32px;\n",
              "    }\n",
              "\n",
              "    .colab-df-convert:hover {\n",
              "      background-color: #E2EBFA;\n",
              "      box-shadow: 0px 1px 2px rgba(60, 64, 67, 0.3), 0px 1px 3px 1px rgba(60, 64, 67, 0.15);\n",
              "      fill: #174EA6;\n",
              "    }\n",
              "\n",
              "    .colab-df-buttons div {\n",
              "      margin-bottom: 4px;\n",
              "    }\n",
              "\n",
              "    [theme=dark] .colab-df-convert {\n",
              "      background-color: #3B4455;\n",
              "      fill: #D2E3FC;\n",
              "    }\n",
              "\n",
              "    [theme=dark] .colab-df-convert:hover {\n",
              "      background-color: #434B5C;\n",
              "      box-shadow: 0px 1px 3px 1px rgba(0, 0, 0, 0.15);\n",
              "      filter: drop-shadow(0px 1px 2px rgba(0, 0, 0, 0.3));\n",
              "      fill: #FFFFFF;\n",
              "    }\n",
              "  </style>\n",
              "\n",
              "    <script>\n",
              "      const buttonEl =\n",
              "        document.querySelector('#df-f7a4bff2-9a64-49ac-bc7f-6d4c981db77b button.colab-df-convert');\n",
              "      buttonEl.style.display =\n",
              "        google.colab.kernel.accessAllowed ? 'block' : 'none';\n",
              "\n",
              "      async function convertToInteractive(key) {\n",
              "        const element = document.querySelector('#df-f7a4bff2-9a64-49ac-bc7f-6d4c981db77b');\n",
              "        const dataTable =\n",
              "          await google.colab.kernel.invokeFunction('convertToInteractive',\n",
              "                                                    [key], {});\n",
              "        if (!dataTable) return;\n",
              "\n",
              "        const docLinkHtml = 'Like what you see? Visit the ' +\n",
              "          '<a target=\"_blank\" href=https://colab.research.google.com/notebooks/data_table.ipynb>data table notebook</a>'\n",
              "          + ' to learn more about interactive tables.';\n",
              "        element.innerHTML = '';\n",
              "        dataTable['output_type'] = 'display_data';\n",
              "        await google.colab.output.renderOutput(dataTable, element);\n",
              "        const docLink = document.createElement('div');\n",
              "        docLink.innerHTML = docLinkHtml;\n",
              "        element.appendChild(docLink);\n",
              "      }\n",
              "    </script>\n",
              "  </div>\n",
              "\n",
              "\n",
              "<div id=\"df-747a26ee-a008-4351-b4de-5fe1f4ae99c8\">\n",
              "  <button class=\"colab-df-quickchart\" onclick=\"quickchart('df-747a26ee-a008-4351-b4de-5fe1f4ae99c8')\"\n",
              "            title=\"Suggest charts\"\n",
              "            style=\"display:none;\">\n",
              "\n",
              "<svg xmlns=\"http://www.w3.org/2000/svg\" height=\"24px\"viewBox=\"0 0 24 24\"\n",
              "     width=\"24px\">\n",
              "    <g>\n",
              "        <path d=\"M19 3H5c-1.1 0-2 .9-2 2v14c0 1.1.9 2 2 2h14c1.1 0 2-.9 2-2V5c0-1.1-.9-2-2-2zM9 17H7v-7h2v7zm4 0h-2V7h2v10zm4 0h-2v-4h2v4z\"/>\n",
              "    </g>\n",
              "</svg>\n",
              "  </button>\n",
              "\n",
              "<style>\n",
              "  .colab-df-quickchart {\n",
              "      --bg-color: #E8F0FE;\n",
              "      --fill-color: #1967D2;\n",
              "      --hover-bg-color: #E2EBFA;\n",
              "      --hover-fill-color: #174EA6;\n",
              "      --disabled-fill-color: #AAA;\n",
              "      --disabled-bg-color: #DDD;\n",
              "  }\n",
              "\n",
              "  [theme=dark] .colab-df-quickchart {\n",
              "      --bg-color: #3B4455;\n",
              "      --fill-color: #D2E3FC;\n",
              "      --hover-bg-color: #434B5C;\n",
              "      --hover-fill-color: #FFFFFF;\n",
              "      --disabled-bg-color: #3B4455;\n",
              "      --disabled-fill-color: #666;\n",
              "  }\n",
              "\n",
              "  .colab-df-quickchart {\n",
              "    background-color: var(--bg-color);\n",
              "    border: none;\n",
              "    border-radius: 50%;\n",
              "    cursor: pointer;\n",
              "    display: none;\n",
              "    fill: var(--fill-color);\n",
              "    height: 32px;\n",
              "    padding: 0;\n",
              "    width: 32px;\n",
              "  }\n",
              "\n",
              "  .colab-df-quickchart:hover {\n",
              "    background-color: var(--hover-bg-color);\n",
              "    box-shadow: 0 1px 2px rgba(60, 64, 67, 0.3), 0 1px 3px 1px rgba(60, 64, 67, 0.15);\n",
              "    fill: var(--button-hover-fill-color);\n",
              "  }\n",
              "\n",
              "  .colab-df-quickchart-complete:disabled,\n",
              "  .colab-df-quickchart-complete:disabled:hover {\n",
              "    background-color: var(--disabled-bg-color);\n",
              "    fill: var(--disabled-fill-color);\n",
              "    box-shadow: none;\n",
              "  }\n",
              "\n",
              "  .colab-df-spinner {\n",
              "    border: 2px solid var(--fill-color);\n",
              "    border-color: transparent;\n",
              "    border-bottom-color: var(--fill-color);\n",
              "    animation:\n",
              "      spin 1s steps(1) infinite;\n",
              "  }\n",
              "\n",
              "  @keyframes spin {\n",
              "    0% {\n",
              "      border-color: transparent;\n",
              "      border-bottom-color: var(--fill-color);\n",
              "      border-left-color: var(--fill-color);\n",
              "    }\n",
              "    20% {\n",
              "      border-color: transparent;\n",
              "      border-left-color: var(--fill-color);\n",
              "      border-top-color: var(--fill-color);\n",
              "    }\n",
              "    30% {\n",
              "      border-color: transparent;\n",
              "      border-left-color: var(--fill-color);\n",
              "      border-top-color: var(--fill-color);\n",
              "      border-right-color: var(--fill-color);\n",
              "    }\n",
              "    40% {\n",
              "      border-color: transparent;\n",
              "      border-right-color: var(--fill-color);\n",
              "      border-top-color: var(--fill-color);\n",
              "    }\n",
              "    60% {\n",
              "      border-color: transparent;\n",
              "      border-right-color: var(--fill-color);\n",
              "    }\n",
              "    80% {\n",
              "      border-color: transparent;\n",
              "      border-right-color: var(--fill-color);\n",
              "      border-bottom-color: var(--fill-color);\n",
              "    }\n",
              "    90% {\n",
              "      border-color: transparent;\n",
              "      border-bottom-color: var(--fill-color);\n",
              "    }\n",
              "  }\n",
              "</style>\n",
              "\n",
              "  <script>\n",
              "    async function quickchart(key) {\n",
              "      const quickchartButtonEl =\n",
              "        document.querySelector('#' + key + ' button');\n",
              "      quickchartButtonEl.disabled = true;  // To prevent multiple clicks.\n",
              "      quickchartButtonEl.classList.add('colab-df-spinner');\n",
              "      try {\n",
              "        const charts = await google.colab.kernel.invokeFunction(\n",
              "            'suggestCharts', [key], {});\n",
              "      } catch (error) {\n",
              "        console.error('Error during call to suggestCharts:', error);\n",
              "      }\n",
              "      quickchartButtonEl.classList.remove('colab-df-spinner');\n",
              "      quickchartButtonEl.classList.add('colab-df-quickchart-complete');\n",
              "    }\n",
              "    (() => {\n",
              "      let quickchartButtonEl =\n",
              "        document.querySelector('#df-747a26ee-a008-4351-b4de-5fe1f4ae99c8 button');\n",
              "      quickchartButtonEl.style.display =\n",
              "        google.colab.kernel.accessAllowed ? 'block' : 'none';\n",
              "    })();\n",
              "  </script>\n",
              "</div>\n",
              "\n",
              "    </div>\n",
              "  </div>\n"
            ],
            "application/vnd.google.colaboratory.intrinsic+json": {
              "type": "dataframe",
              "variable_name": "data_por"
            }
          },
          "metadata": {},
          "execution_count": 4
        }
      ]
    },
    {
      "cell_type": "code",
      "source": [
        "from sklearn.model_selection import train_test_split\n",
        "X_train, X_test, y_train, y_test = train_test_split(data_por, y_por)"
      ],
      "metadata": {
        "id": "giP1yfL-PBSs"
      },
      "execution_count": null,
      "outputs": []
    },
    {
      "cell_type": "code",
      "source": [
        "from sklearn.preprocessing import StandardScaler\n",
        "scaler = StandardScaler()\n",
        "X_train['absences'] = scaler.fit_transform(X_train['absences'].values.reshape(-1, 1))\n",
        "X_test['absences'] = scaler.fit_transform(X_test['absences'].values.reshape(-1, 1))"
      ],
      "metadata": {
        "id": "vghe3CllPMpR"
      },
      "execution_count": null,
      "outputs": []
    },
    {
      "cell_type": "code",
      "source": [
        "import tensorflow as tf"
      ],
      "metadata": {
        "id": "CfdFtyYjPRvy"
      },
      "execution_count": null,
      "outputs": []
    },
    {
      "cell_type": "code",
      "source": [
        "school_vocab = ['MS', 'GP']\n",
        "school_column = tf.feature_column.categorical_column_with_vocabulary_list(\n",
        "      key=\"school\", vocabulary_list=school_vocab)"
      ],
      "metadata": {
        "colab": {
          "base_uri": "https://localhost:8080/"
        },
        "id": "bPiVPAwiPRzP",
        "outputId": "dca2c8ff-a910-45ae-b373-0be8afdc3505"
      },
      "execution_count": null,
      "outputs": [
        {
          "output_type": "stream",
          "name": "stderr",
          "text": [
            "WARNING:tensorflow:From <ipython-input-8-e68bdfbd7864>:2: categorical_column_with_vocabulary_list (from tensorflow.python.feature_column.feature_column_v2) is deprecated and will be removed in a future version.\n",
            "Instructions for updating:\n",
            "Use Keras preprocessing layers instead, either directly or via the `tf.keras.utils.FeatureSpace` utility. Each of `tf.feature_column.*` has a functional equivalent in `tf.keras.layers` for feature preprocessing when training a Keras model.\n"
          ]
        }
      ]
    },
    {
      "cell_type": "code",
      "source": [
        "sex_vocab = ['M', 'F']\n",
        "sex_column = tf.feature_column.categorical_column_with_vocabulary_list(\n",
        "      key=\"sex\", vocabulary_list=sex_vocab)"
      ],
      "metadata": {
        "id": "oUdd3lrfPaK_"
      },
      "execution_count": null,
      "outputs": []
    },
    {
      "cell_type": "code",
      "source": [
        "age_vocab = [18, 16, 17, 20, 19, 15, 21, 22]\n",
        "age_column = tf.feature_column.categorical_column_with_vocabulary_list(\n",
        "      key=\"age\", vocabulary_list=age_vocab)"
      ],
      "metadata": {
        "id": "fW9BmH6EPdLQ"
      },
      "execution_count": null,
      "outputs": []
    },
    {
      "cell_type": "code",
      "source": [
        "address_vocab = ['R', 'U']\n",
        "address_column = tf.feature_column.categorical_column_with_vocabulary_list(\n",
        "      key=\"address\", vocabulary_list=address_vocab)"
      ],
      "metadata": {
        "id": "zxpI8fBhPf63"
      },
      "execution_count": null,
      "outputs": []
    },
    {
      "cell_type": "code",
      "source": [
        "famsize_vocab = ['GT3', 'LE3']\n",
        "famsize_column = tf.feature_column.categorical_column_with_vocabulary_list(\n",
        "      key=\"famsize\", vocabulary_list=famsize_vocab)"
      ],
      "metadata": {
        "id": "Ni7fW0k8Pii_"
      },
      "execution_count": null,
      "outputs": []
    },
    {
      "cell_type": "code",
      "source": [
        "Pstatus_vocab = ['T', 'A']\n",
        "Pstatus_column = tf.feature_column.categorical_column_with_vocabulary_list(\n",
        "      key=\"Pstatus\", vocabulary_list=Pstatus_vocab)"
      ],
      "metadata": {
        "id": "W5WkEtmNPld0"
      },
      "execution_count": null,
      "outputs": []
    },
    {
      "cell_type": "code",
      "source": [
        "Medu_vocab = [3, 4, 1, 2, 0]\n",
        "Medu_column = tf.feature_column.categorical_column_with_vocabulary_list(\n",
        "      key=\"Medu\", vocabulary_list=Medu_vocab)"
      ],
      "metadata": {
        "id": "UwHDjL2bPoaY"
      },
      "execution_count": null,
      "outputs": []
    },
    {
      "cell_type": "code",
      "source": [
        "Fedu_vocab = [2, 1, 4, 3, 0]\n",
        "Fedu_column = tf.feature_column.categorical_column_with_vocabulary_list(\n",
        "      key=\"Fedu\", vocabulary_list=Fedu_vocab)"
      ],
      "metadata": {
        "id": "DufAb0e4Pr5w"
      },
      "execution_count": null,
      "outputs": []
    },
    {
      "cell_type": "code",
      "source": [
        "Mjob_vocab = ['services', 'other', 'teacher', 'at_home', 'health']\n",
        "Mjob_column = tf.feature_column.categorical_column_with_vocabulary_list(\n",
        "      key=\"Mjob\", vocabulary_list=Mjob_vocab)"
      ],
      "metadata": {
        "id": "6IjT8LSUPujA"
      },
      "execution_count": null,
      "outputs": []
    },
    {
      "cell_type": "code",
      "source": [
        "Fjob_vocab = ['other', 'health', 'services', 'teacher', 'at_home']\n",
        "Fjob_column = tf.feature_column.categorical_column_with_vocabulary_list(\n",
        "      key=\"Fjob\", vocabulary_list=Fjob_vocab)"
      ],
      "metadata": {
        "id": "5BiZoSN9PxN2"
      },
      "execution_count": null,
      "outputs": []
    },
    {
      "cell_type": "code",
      "source": [
        "reason_vocab = ['course', 'reputation', 'other', 'home']\n",
        "reason_column = tf.feature_column.categorical_column_with_vocabulary_list(\n",
        "      key=\"reason\", vocabulary_list=reason_vocab)"
      ],
      "metadata": {
        "id": "UfWofHv1P0F4"
      },
      "execution_count": null,
      "outputs": []
    },
    {
      "cell_type": "code",
      "source": [
        "guardian_vocab = ['mother', 'father', 'other']\n",
        "guardian_column = tf.feature_column.categorical_column_with_vocabulary_list(\n",
        "      key=\"guardian\", vocabulary_list=guardian_vocab)"
      ],
      "metadata": {
        "id": "ktOKi2eZP1LZ"
      },
      "execution_count": null,
      "outputs": []
    },
    {
      "cell_type": "code",
      "source": [
        "traveltime_vocab = [1, 2, 4, 3]\n",
        "traveltime_column = tf.feature_column.categorical_column_with_vocabulary_list(\n",
        "      key=\"traveltime\", vocabulary_list=traveltime_vocab)"
      ],
      "metadata": {
        "id": "d_v4FtDfP4LD"
      },
      "execution_count": null,
      "outputs": []
    },
    {
      "cell_type": "code",
      "source": [
        "studytime_vocab = [1, 4, 2, 3]\n",
        "studytime_column = tf.feature_column.categorical_column_with_vocabulary_list(\n",
        "      key=\"studytime\", vocabulary_list=studytime_vocab)"
      ],
      "metadata": {
        "id": "MmfiuE_aP6dV"
      },
      "execution_count": null,
      "outputs": []
    },
    {
      "cell_type": "code",
      "source": [
        "failures_vocab = [1, 4, 2, 3]\n",
        "failures_column = tf.feature_column.categorical_column_with_vocabulary_list(\n",
        "      key=\"failures\", vocabulary_list=failures_vocab)"
      ],
      "metadata": {
        "id": "JVryhYMTQDt_"
      },
      "execution_count": null,
      "outputs": []
    },
    {
      "cell_type": "code",
      "source": [
        "schoolsup_vocab = ['no', 'yes']\n",
        "schoolsup_column = tf.feature_column.categorical_column_with_vocabulary_list(\n",
        "      key=\"schoolsup\", vocabulary_list=schoolsup_vocab)"
      ],
      "metadata": {
        "id": "wsFAJHL_QHPU"
      },
      "execution_count": null,
      "outputs": []
    },
    {
      "cell_type": "code",
      "source": [
        "famsup_vocab = ['yes', 'no']\n",
        "famsup_column = tf.feature_column.categorical_column_with_vocabulary_list(\n",
        "      key=\"famsup\", vocabulary_list=famsup_vocab)"
      ],
      "metadata": {
        "id": "joKNRs_OQINv"
      },
      "execution_count": null,
      "outputs": []
    },
    {
      "cell_type": "code",
      "source": [
        "paid_vocab = ['no', 'yes']\n",
        "paid_column = tf.feature_column.categorical_column_with_vocabulary_list(\n",
        "      key=\"paid\", vocabulary_list=paid_vocab)"
      ],
      "metadata": {
        "id": "xH-rmQn7QLRU"
      },
      "execution_count": null,
      "outputs": []
    },
    {
      "cell_type": "code",
      "source": [
        "activities_vocab = ['no', 'yes']\n",
        "activities_column = tf.feature_column.categorical_column_with_vocabulary_list(\n",
        "      key=\"activities\", vocabulary_list=activities_vocab)"
      ],
      "metadata": {
        "id": "AperWBOkQPJC"
      },
      "execution_count": null,
      "outputs": []
    },
    {
      "cell_type": "code",
      "source": [
        "nursery_vocab = ['yes', 'no']\n",
        "nursery_column = tf.feature_column.categorical_column_with_vocabulary_list(\n",
        "      key=\"nursery\", vocabulary_list=nursery_vocab)"
      ],
      "metadata": {
        "id": "YnfIzaFtQRbm"
      },
      "execution_count": null,
      "outputs": []
    },
    {
      "cell_type": "code",
      "source": [
        "higher_vocab = ['yes', 'no']\n",
        "higher_column = tf.feature_column.categorical_column_with_vocabulary_list(\n",
        "      key=\"higher\", vocabulary_list=higher_vocab)"
      ],
      "metadata": {
        "id": "TFFYFqdWQUGe"
      },
      "execution_count": null,
      "outputs": []
    },
    {
      "cell_type": "code",
      "source": [
        "internet_vocab = ['yes', 'no']\n",
        "internet_column = tf.feature_column.categorical_column_with_vocabulary_list(\n",
        "      key=\"internet\", vocabulary_list=internet_vocab)"
      ],
      "metadata": {
        "id": "wmW24O3IQczP"
      },
      "execution_count": null,
      "outputs": []
    },
    {
      "cell_type": "code",
      "source": [
        "romantic_vocab = ['no', 'yes']\n",
        "romantic_column = tf.feature_column.categorical_column_with_vocabulary_list(\n",
        "      key=\"romantic\", vocabulary_list=romantic_vocab)"
      ],
      "metadata": {
        "id": "FXOxbWQ7QePq"
      },
      "execution_count": null,
      "outputs": []
    },
    {
      "cell_type": "code",
      "source": [
        "famrel_vocab = [4, 5, 2, 1, 3]\n",
        "famrel_column = tf.feature_column.categorical_column_with_vocabulary_list(\n",
        "      key=\"famrel\", vocabulary_list=famrel_vocab)"
      ],
      "metadata": {
        "id": "93px7sZaQgia"
      },
      "execution_count": null,
      "outputs": []
    },
    {
      "cell_type": "code",
      "source": [
        "freetime_vocab = [3, 5, 4, 2, 1]\n",
        "freetime_column = tf.feature_column.categorical_column_with_vocabulary_list(\n",
        "      key=\"freetime\", vocabulary_list=freetime_vocab)"
      ],
      "metadata": {
        "id": "uMVjVM4_Qk0M"
      },
      "execution_count": null,
      "outputs": []
    },
    {
      "cell_type": "code",
      "source": [
        "goout_vocab = [3, 2, 5, 1, 4]\n",
        "goout_column = tf.feature_column.categorical_column_with_vocabulary_list(\n",
        "      key=\"goout\", vocabulary_list=goout_vocab)"
      ],
      "metadata": {
        "id": "cAV8jMuaQluy"
      },
      "execution_count": null,
      "outputs": []
    },
    {
      "cell_type": "code",
      "source": [
        "Dalc_vocab = [3, 2, 5, 1, 4]\n",
        "Dalc_column = tf.feature_column.categorical_column_with_vocabulary_list(\n",
        "      key=\"Dalc\", vocabulary_list=Dalc_vocab)"
      ],
      "metadata": {
        "id": "Z72eVtwcQpeH"
      },
      "execution_count": null,
      "outputs": []
    },
    {
      "cell_type": "code",
      "source": [
        "Walc_vocab = [1, 4, 2, 3, 5]\n",
        "Walc_column = tf.feature_column.categorical_column_with_vocabulary_list(\n",
        "      key=\"Walc\", vocabulary_list=Walc_vocab)"
      ],
      "metadata": {
        "id": "QQzCc3vbQru4"
      },
      "execution_count": null,
      "outputs": []
    },
    {
      "cell_type": "code",
      "source": [
        "health_vocab = [3, 5, 1, 4, 2]\n",
        "health_column = tf.feature_column.categorical_column_with_vocabulary_list(\n",
        "      key=\"health\", vocabulary_list=health_vocab)"
      ],
      "metadata": {
        "id": "cERbDbyEQvlt"
      },
      "execution_count": null,
      "outputs": []
    },
    {
      "cell_type": "code",
      "source": [
        "feature_columns = [\n",
        "    tf.feature_column.indicator_column(school_column),\n",
        "    tf.feature_column.indicator_column(sex_column),\n",
        "    tf.feature_column.indicator_column(age_column),\n",
        "    tf.feature_column.indicator_column(address_column),\n",
        "    tf.feature_column.indicator_column(famsize_column),\n",
        "    tf.feature_column.indicator_column(Pstatus_column),\n",
        "    tf.feature_column.indicator_column(Medu_column),\n",
        "    tf.feature_column.indicator_column(Fedu_column),\n",
        "    tf.feature_column.indicator_column(Mjob_column),\n",
        "    tf.feature_column.indicator_column(Fjob_column),\n",
        "    tf.feature_column.indicator_column(reason_column),\n",
        "    tf.feature_column.indicator_column(guardian_column),\n",
        "    tf.feature_column.indicator_column(traveltime_column),\n",
        "    tf.feature_column.indicator_column(studytime_column),\n",
        "    tf.feature_column.indicator_column(failures_column),\n",
        "    tf.feature_column.indicator_column(schoolsup_column),\n",
        "    tf.feature_column.indicator_column(famsup_column),\n",
        "    tf.feature_column.indicator_column(paid_column),\n",
        "    tf.feature_column.indicator_column(activities_column),\n",
        "    tf.feature_column.indicator_column(nursery_column),\n",
        "    tf.feature_column.indicator_column(higher_column),\n",
        "    tf.feature_column.indicator_column(internet_column),\n",
        "    tf.feature_column.indicator_column(romantic_column),\n",
        "    tf.feature_column.indicator_column(famrel_column),\n",
        "    tf.feature_column.indicator_column(freetime_column),\n",
        "    tf.feature_column.indicator_column(goout_column),\n",
        "    tf.feature_column.indicator_column(Dalc_column),\n",
        "    tf.feature_column.indicator_column(Walc_column),\n",
        "    tf.feature_column.indicator_column(health_column),\n",
        "    tf.feature_column.numeric_column('absences')\n",
        "  ]"
      ],
      "metadata": {
        "colab": {
          "base_uri": "https://localhost:8080/"
        },
        "id": "Oo-LuT_aQ1pf",
        "outputId": "8766ca69-de31-4ebb-df08-7d5de38388b4"
      },
      "execution_count": null,
      "outputs": [
        {
          "output_type": "stream",
          "name": "stderr",
          "text": [
            "WARNING:tensorflow:From <ipython-input-37-413090e33d5a>:2: indicator_column (from tensorflow.python.feature_column.feature_column_v2) is deprecated and will be removed in a future version.\n",
            "Instructions for updating:\n",
            "Use Keras preprocessing layers instead, either directly or via the `tf.keras.utils.FeatureSpace` utility. Each of `tf.feature_column.*` has a functional equivalent in `tf.keras.layers` for feature preprocessing when training a Keras model.\n",
            "WARNING:tensorflow:From <ipython-input-37-413090e33d5a>:31: numeric_column (from tensorflow.python.feature_column.feature_column_v2) is deprecated and will be removed in a future version.\n",
            "Instructions for updating:\n",
            "Use Keras preprocessing layers instead, either directly or via the `tf.keras.utils.FeatureSpace` utility. Each of `tf.feature_column.*` has a functional equivalent in `tf.keras.layers` for feature preprocessing when training a Keras model.\n"
          ]
        }
      ]
    },
    {
      "cell_type": "code",
      "source": [
        "import tensorflow as tf\n",
        "\n",
        "input_func = tf.data.Dataset.from_tensor_slices((dict(X_train), y_train))\n",
        "input_func = input_func.batch(100).repeat(10)\n"
      ],
      "metadata": {
        "id": "6JOsN5qbQ4BH"
      },
      "execution_count": null,
      "outputs": []
    },
    {
      "cell_type": "code",
      "source": [
        "import tensorflow as tf\n",
        "\n",
        "\n",
        "model = tf.keras.Sequential([\n",
        "    tf.keras.layers.Dense(32, activation='relu', input_shape=(X_train.shape[1],)),\n",
        "    tf.keras.layers.Dense(32, activation='relu'),\n",
        "    tf.keras.layers.Dense(32, activation='relu'),\n",
        "    tf.keras.layers.Dense(1)\n",
        "])\n",
        "\n",
        "\n",
        "model.compile(optimizer=tf.keras.optimizers.Adam(learning_rate=0.01),\n",
        "              loss='mse')\n",
        "\n",
        "\n"
      ],
      "metadata": {
        "colab": {
          "base_uri": "https://localhost:8080/",
          "height": 339
        },
        "id": "KDvQEhTORadI",
        "outputId": "93c2c185-e307-4248-85e3-dfdec06db6f8"
      },
      "execution_count": null,
      "outputs": [
        {
          "output_type": "error",
          "ename": "ValueError",
          "evalue": "Invalid dtype: object",
          "traceback": [
            "\u001b[0;31m---------------------------------------------------------------------------\u001b[0m",
            "\u001b[0;31mValueError\u001b[0m                                Traceback (most recent call last)",
            "\u001b[0;32m<ipython-input-45-3f43bfae0932>\u001b[0m in \u001b[0;36m<cell line: 0>\u001b[0;34m()\u001b[0m\n\u001b[1;32m     13\u001b[0m               loss='mse')\n\u001b[1;32m     14\u001b[0m \u001b[0;34m\u001b[0m\u001b[0m\n\u001b[0;32m---> 15\u001b[0;31m \u001b[0mmodel\u001b[0m\u001b[0;34m.\u001b[0m\u001b[0mfit\u001b[0m\u001b[0;34m(\u001b[0m\u001b[0mX_train\u001b[0m\u001b[0;34m,\u001b[0m \u001b[0my_train\u001b[0m\u001b[0;34m,\u001b[0m \u001b[0mepochs\u001b[0m\u001b[0;34m=\u001b[0m\u001b[0;36m10\u001b[0m\u001b[0;34m,\u001b[0m \u001b[0mbatch_size\u001b[0m\u001b[0;34m=\u001b[0m\u001b[0;36m100\u001b[0m\u001b[0;34m,\u001b[0m \u001b[0mshuffle\u001b[0m\u001b[0;34m=\u001b[0m\u001b[0;32mFalse\u001b[0m\u001b[0;34m)\u001b[0m\u001b[0;34m\u001b[0m\u001b[0;34m\u001b[0m\u001b[0m\n\u001b[0m",
            "\u001b[0;32m/usr/local/lib/python3.11/dist-packages/keras/src/utils/traceback_utils.py\u001b[0m in \u001b[0;36merror_handler\u001b[0;34m(*args, **kwargs)\u001b[0m\n\u001b[1;32m    120\u001b[0m             \u001b[0;31m# To get the full stack trace, call:\u001b[0m\u001b[0;34m\u001b[0m\u001b[0;34m\u001b[0m\u001b[0m\n\u001b[1;32m    121\u001b[0m             \u001b[0;31m# `keras.config.disable_traceback_filtering()`\u001b[0m\u001b[0;34m\u001b[0m\u001b[0;34m\u001b[0m\u001b[0m\n\u001b[0;32m--> 122\u001b[0;31m             \u001b[0;32mraise\u001b[0m \u001b[0me\u001b[0m\u001b[0;34m.\u001b[0m\u001b[0mwith_traceback\u001b[0m\u001b[0;34m(\u001b[0m\u001b[0mfiltered_tb\u001b[0m\u001b[0;34m)\u001b[0m \u001b[0;32mfrom\u001b[0m \u001b[0;32mNone\u001b[0m\u001b[0;34m\u001b[0m\u001b[0;34m\u001b[0m\u001b[0m\n\u001b[0m\u001b[1;32m    123\u001b[0m         \u001b[0;32mfinally\u001b[0m\u001b[0;34m:\u001b[0m\u001b[0;34m\u001b[0m\u001b[0;34m\u001b[0m\u001b[0m\n\u001b[1;32m    124\u001b[0m             \u001b[0;32mdel\u001b[0m \u001b[0mfiltered_tb\u001b[0m\u001b[0;34m\u001b[0m\u001b[0;34m\u001b[0m\u001b[0m\n",
            "\u001b[0;32m/usr/local/lib/python3.11/dist-packages/optree/ops.py\u001b[0m in \u001b[0;36mtree_map\u001b[0;34m(func, tree, is_leaf, none_is_leaf, namespace, *rests)\u001b[0m\n\u001b[1;32m    764\u001b[0m     \u001b[0mleaves\u001b[0m\u001b[0;34m,\u001b[0m \u001b[0mtreespec\u001b[0m \u001b[0;34m=\u001b[0m \u001b[0m_C\u001b[0m\u001b[0;34m.\u001b[0m\u001b[0mflatten\u001b[0m\u001b[0;34m(\u001b[0m\u001b[0mtree\u001b[0m\u001b[0;34m,\u001b[0m \u001b[0mis_leaf\u001b[0m\u001b[0;34m,\u001b[0m \u001b[0mnone_is_leaf\u001b[0m\u001b[0;34m,\u001b[0m \u001b[0mnamespace\u001b[0m\u001b[0;34m)\u001b[0m\u001b[0;34m\u001b[0m\u001b[0;34m\u001b[0m\u001b[0m\n\u001b[1;32m    765\u001b[0m     \u001b[0mflat_args\u001b[0m \u001b[0;34m=\u001b[0m \u001b[0;34m[\u001b[0m\u001b[0mleaves\u001b[0m\u001b[0;34m]\u001b[0m \u001b[0;34m+\u001b[0m \u001b[0;34m[\u001b[0m\u001b[0mtreespec\u001b[0m\u001b[0;34m.\u001b[0m\u001b[0mflatten_up_to\u001b[0m\u001b[0;34m(\u001b[0m\u001b[0mr\u001b[0m\u001b[0;34m)\u001b[0m \u001b[0;32mfor\u001b[0m \u001b[0mr\u001b[0m \u001b[0;32min\u001b[0m \u001b[0mrests\u001b[0m\u001b[0;34m]\u001b[0m\u001b[0;34m\u001b[0m\u001b[0;34m\u001b[0m\u001b[0m\n\u001b[0;32m--> 766\u001b[0;31m     \u001b[0;32mreturn\u001b[0m \u001b[0mtreespec\u001b[0m\u001b[0;34m.\u001b[0m\u001b[0munflatten\u001b[0m\u001b[0;34m(\u001b[0m\u001b[0mmap\u001b[0m\u001b[0;34m(\u001b[0m\u001b[0mfunc\u001b[0m\u001b[0;34m,\u001b[0m \u001b[0;34m*\u001b[0m\u001b[0mflat_args\u001b[0m\u001b[0;34m)\u001b[0m\u001b[0;34m)\u001b[0m\u001b[0;34m\u001b[0m\u001b[0;34m\u001b[0m\u001b[0m\n\u001b[0m\u001b[1;32m    767\u001b[0m \u001b[0;34m\u001b[0m\u001b[0m\n\u001b[1;32m    768\u001b[0m \u001b[0;34m\u001b[0m\u001b[0m\n",
            "\u001b[0;31mValueError\u001b[0m: Invalid dtype: object"
          ]
        }
      ]
    },
    {
      "cell_type": "code",
      "source": [
        "X_train = X_train.select_dtypes(include=[np.number])\n",
        "\n",
        "X_train = np.array(X_train).astype('float32')\n",
        "y_train = np.array(y_train).astype('float32')\n"
      ],
      "metadata": {
        "id": "4fnCFsVaSjIB"
      },
      "execution_count": null,
      "outputs": []
    },
    {
      "cell_type": "code",
      "source": [
        "from sklearn.preprocessing import LabelEncoder\n",
        "\n",
        "\n",
        "non_numeric_cols = X_test.select_dtypes(include=['object']).columns\n",
        "print(\"Non-numeric columns:\", non_numeric_cols)\n",
        "\n",
        "le = LabelEncoder()\n",
        "for col in non_numeric_cols:\n",
        "    X_test[col] = le.fit_transform(X_test[col])\n",
        "\n",
        "\n",
        "X_test = X_test.astype('float32')\n",
        "\n",
        "\n",
        "predictions = model.predict(X_test)\n",
        "\n",
        "print(predictions)\n",
        "\n"
      ],
      "metadata": {
        "colab": {
          "base_uri": "https://localhost:8080/"
        },
        "id": "a4qG2F3IS1db",
        "outputId": "1e2eff4b-4fe2-4e86-dc12-58dacb52ac17"
      },
      "execution_count": null,
      "outputs": [
        {
          "output_type": "stream",
          "name": "stdout",
          "text": [
            "Non-numeric columns: Index(['school', 'sex', 'address', 'famsize', 'Pstatus', 'Mjob', 'Fjob',\n",
            "       'reason', 'guardian', 'schoolsup', 'famsup', 'paid', 'activities',\n",
            "       'nursery', 'higher', 'internet', 'romantic'],\n",
            "      dtype='object')\n",
            "\u001b[1m6/6\u001b[0m \u001b[32m━━━━━━━━━━━━━━━━━━━━\u001b[0m\u001b[37m\u001b[0m \u001b[1m0s\u001b[0m 17ms/step\n",
            "[[-1.0422441 ]\n",
            " [-1.4255011 ]\n",
            " [-1.2170033 ]\n",
            " [-1.7493321 ]\n",
            " [-1.3616465 ]\n",
            " [-1.2882829 ]\n",
            " [-1.8967938 ]\n",
            " [-0.41514415]\n",
            " [-1.2327194 ]\n",
            " [-1.1314186 ]\n",
            " [-1.4958165 ]\n",
            " [-0.733374  ]\n",
            " [-0.87105536]\n",
            " [-1.0726687 ]\n",
            " [-1.2694453 ]\n",
            " [-1.3533058 ]\n",
            " [-1.3939016 ]\n",
            " [-1.2974308 ]\n",
            " [-1.2424941 ]\n",
            " [-1.7230175 ]\n",
            " [-1.3888624 ]\n",
            " [-1.1530681 ]\n",
            " [-1.335239  ]\n",
            " [-1.4130441 ]\n",
            " [-1.4605662 ]\n",
            " [-1.2109796 ]\n",
            " [-1.6731546 ]\n",
            " [-0.999709  ]\n",
            " [-1.0903368 ]\n",
            " [-1.0922611 ]\n",
            " [-1.356355  ]\n",
            " [-1.1266268 ]\n",
            " [-0.6909436 ]\n",
            " [-0.9465723 ]\n",
            " [-0.9183191 ]\n",
            " [-1.043898  ]\n",
            " [-0.30125868]\n",
            " [-0.9220598 ]\n",
            " [-1.17243   ]\n",
            " [-1.7086767 ]\n",
            " [-1.244842  ]\n",
            " [-1.1115065 ]\n",
            " [-1.0638186 ]\n",
            " [-1.3812897 ]\n",
            " [-1.0811536 ]\n",
            " [-1.2946947 ]\n",
            " [-1.240236  ]\n",
            " [-1.6617172 ]\n",
            " [-2.1339998 ]\n",
            " [-1.6625018 ]\n",
            " [-1.1623605 ]\n",
            " [-1.4102459 ]\n",
            " [-0.64178336]\n",
            " [-1.1000232 ]\n",
            " [-0.90041125]\n",
            " [-1.8021948 ]\n",
            " [-1.0161167 ]\n",
            " [-0.8816711 ]\n",
            " [-0.9710932 ]\n",
            " [-0.51687694]\n",
            " [-1.2892113 ]\n",
            " [-1.449511  ]\n",
            " [-1.0007304 ]\n",
            " [-0.8654289 ]\n",
            " [-1.5455539 ]\n",
            " [-0.83787036]\n",
            " [-1.0876114 ]\n",
            " [-1.5569137 ]\n",
            " [-1.1995811 ]\n",
            " [-1.1328447 ]\n",
            " [-1.3602532 ]\n",
            " [-0.91983104]\n",
            " [-1.7669753 ]\n",
            " [-1.3778305 ]\n",
            " [-1.71816   ]\n",
            " [-1.1783895 ]\n",
            " [-1.2867438 ]\n",
            " [-1.3973002 ]\n",
            " [-1.063458  ]\n",
            " [-0.56870073]\n",
            " [-1.245712  ]\n",
            " [-1.3262129 ]\n",
            " [-1.0053127 ]\n",
            " [-1.8323624 ]\n",
            " [-1.2940292 ]\n",
            " [-1.512992  ]\n",
            " [-1.5916367 ]\n",
            " [-1.5312499 ]\n",
            " [-0.887756  ]\n",
            " [-0.72269905]\n",
            " [-1.1349825 ]\n",
            " [-1.2051737 ]\n",
            " [-1.3239218 ]\n",
            " [-0.32942194]\n",
            " [-0.97544646]\n",
            " [-0.9795936 ]\n",
            " [-0.59657246]\n",
            " [-1.6076409 ]\n",
            " [-1.1615269 ]\n",
            " [-1.0431876 ]\n",
            " [-0.7348713 ]\n",
            " [-1.3756766 ]\n",
            " [-1.376487  ]\n",
            " [-2.2710671 ]\n",
            " [-0.8948139 ]\n",
            " [-1.4097319 ]\n",
            " [-1.6621945 ]\n",
            " [-1.4801093 ]\n",
            " [-1.3863631 ]\n",
            " [-0.9862033 ]\n",
            " [-1.1127129 ]\n",
            " [-1.9169629 ]\n",
            " [-0.7958346 ]\n",
            " [-1.6904625 ]\n",
            " [-1.2466129 ]\n",
            " [-0.8997057 ]\n",
            " [-1.1373951 ]\n",
            " [-1.3667607 ]\n",
            " [-1.1381795 ]\n",
            " [-0.9954687 ]\n",
            " [-1.3691648 ]\n",
            " [-1.7669587 ]\n",
            " [-0.43220177]\n",
            " [-1.3346303 ]\n",
            " [-1.4954739 ]\n",
            " [-1.4691716 ]\n",
            " [-0.6825054 ]\n",
            " [-1.1918697 ]\n",
            " [-1.1578648 ]\n",
            " [-1.3932872 ]\n",
            " [-0.9622179 ]\n",
            " [-1.246829  ]\n",
            " [-0.7215962 ]\n",
            " [-1.570545  ]\n",
            " [-0.8537884 ]\n",
            " [-1.2648162 ]\n",
            " [-1.0690297 ]\n",
            " [-0.9846968 ]\n",
            " [-1.5450335 ]\n",
            " [-1.1470735 ]\n",
            " [-0.8522016 ]\n",
            " [-0.997749  ]\n",
            " [-0.74790144]\n",
            " [-0.89970094]\n",
            " [-1.2214576 ]\n",
            " [-1.5047466 ]\n",
            " [-1.578782  ]\n",
            " [-1.1639438 ]\n",
            " [-1.0490665 ]\n",
            " [-0.92206675]\n",
            " [-0.6468483 ]\n",
            " [-1.12426   ]\n",
            " [-1.443362  ]\n",
            " [-0.91580325]\n",
            " [-1.8041735 ]\n",
            " [-1.5137541 ]\n",
            " [-1.833692  ]\n",
            " [-0.92096746]\n",
            " [-0.93194556]\n",
            " [-1.1984354 ]\n",
            " [-1.1924897 ]\n",
            " [-1.4033513 ]\n",
            " [-1.0217952 ]]\n"
          ]
        }
      ]
    },
    {
      "cell_type": "code",
      "source": [
        "predictions = model.predict(X_test)\n",
        "\n",
        "final_preds = list(predictions)\n",
        "\n",
        "print(final_preds)\n"
      ],
      "metadata": {
        "colab": {
          "base_uri": "https://localhost:8080/"
        },
        "id": "6DbIHxQeUkoo",
        "outputId": "26d2dc96-5027-4cc4-8702-180391618880"
      },
      "execution_count": null,
      "outputs": [
        {
          "output_type": "stream",
          "name": "stdout",
          "text": [
            "\u001b[1m6/6\u001b[0m \u001b[32m━━━━━━━━━━━━━━━━━━━━\u001b[0m\u001b[37m\u001b[0m \u001b[1m0s\u001b[0m 5ms/step \n",
            "[array([-1.0422441], dtype=float32), array([-1.4255011], dtype=float32), array([-1.2170033], dtype=float32), array([-1.7493321], dtype=float32), array([-1.3616465], dtype=float32), array([-1.2882829], dtype=float32), array([-1.8967938], dtype=float32), array([-0.41514415], dtype=float32), array([-1.2327194], dtype=float32), array([-1.1314186], dtype=float32), array([-1.4958165], dtype=float32), array([-0.733374], dtype=float32), array([-0.87105536], dtype=float32), array([-1.0726687], dtype=float32), array([-1.2694453], dtype=float32), array([-1.3533058], dtype=float32), array([-1.3939016], dtype=float32), array([-1.2974308], dtype=float32), array([-1.2424941], dtype=float32), array([-1.7230175], dtype=float32), array([-1.3888624], dtype=float32), array([-1.1530681], dtype=float32), array([-1.335239], dtype=float32), array([-1.4130441], dtype=float32), array([-1.4605662], dtype=float32), array([-1.2109796], dtype=float32), array([-1.6731546], dtype=float32), array([-0.999709], dtype=float32), array([-1.0903368], dtype=float32), array([-1.0922611], dtype=float32), array([-1.356355], dtype=float32), array([-1.1266268], dtype=float32), array([-0.6909436], dtype=float32), array([-0.9465723], dtype=float32), array([-0.9183191], dtype=float32), array([-1.043898], dtype=float32), array([-0.30125868], dtype=float32), array([-0.9220598], dtype=float32), array([-1.17243], dtype=float32), array([-1.7086767], dtype=float32), array([-1.244842], dtype=float32), array([-1.1115065], dtype=float32), array([-1.0638186], dtype=float32), array([-1.3812897], dtype=float32), array([-1.0811536], dtype=float32), array([-1.2946947], dtype=float32), array([-1.240236], dtype=float32), array([-1.6617172], dtype=float32), array([-2.1339998], dtype=float32), array([-1.6625018], dtype=float32), array([-1.1623605], dtype=float32), array([-1.4102459], dtype=float32), array([-0.64178336], dtype=float32), array([-1.1000232], dtype=float32), array([-0.90041125], dtype=float32), array([-1.8021948], dtype=float32), array([-1.0161167], dtype=float32), array([-0.8816711], dtype=float32), array([-0.9710932], dtype=float32), array([-0.51687694], dtype=float32), array([-1.2892113], dtype=float32), array([-1.449511], dtype=float32), array([-1.0007304], dtype=float32), array([-0.8654289], dtype=float32), array([-1.5455539], dtype=float32), array([-0.83787036], dtype=float32), array([-1.0876114], dtype=float32), array([-1.5569137], dtype=float32), array([-1.1995811], dtype=float32), array([-1.1328447], dtype=float32), array([-1.3602532], dtype=float32), array([-0.91983104], dtype=float32), array([-1.7669753], dtype=float32), array([-1.3778305], dtype=float32), array([-1.71816], dtype=float32), array([-1.1783895], dtype=float32), array([-1.2867438], dtype=float32), array([-1.3973002], dtype=float32), array([-1.063458], dtype=float32), array([-0.56870073], dtype=float32), array([-1.245712], dtype=float32), array([-1.3262129], dtype=float32), array([-1.0053127], dtype=float32), array([-1.8323624], dtype=float32), array([-1.2940292], dtype=float32), array([-1.512992], dtype=float32), array([-1.5916367], dtype=float32), array([-1.5312499], dtype=float32), array([-0.887756], dtype=float32), array([-0.72269905], dtype=float32), array([-1.1349825], dtype=float32), array([-1.2051737], dtype=float32), array([-1.3239218], dtype=float32), array([-0.32942194], dtype=float32), array([-0.97544646], dtype=float32), array([-0.9795936], dtype=float32), array([-0.59657246], dtype=float32), array([-1.6076409], dtype=float32), array([-1.1615269], dtype=float32), array([-1.0431876], dtype=float32), array([-0.7348713], dtype=float32), array([-1.3756766], dtype=float32), array([-1.376487], dtype=float32), array([-2.2710671], dtype=float32), array([-0.8948139], dtype=float32), array([-1.4097319], dtype=float32), array([-1.6621945], dtype=float32), array([-1.4801093], dtype=float32), array([-1.3863631], dtype=float32), array([-0.9862033], dtype=float32), array([-1.1127129], dtype=float32), array([-1.9169629], dtype=float32), array([-0.7958346], dtype=float32), array([-1.6904625], dtype=float32), array([-1.2466129], dtype=float32), array([-0.8997057], dtype=float32), array([-1.1373951], dtype=float32), array([-1.3667607], dtype=float32), array([-1.1381795], dtype=float32), array([-0.9954687], dtype=float32), array([-1.3691648], dtype=float32), array([-1.7669587], dtype=float32), array([-0.43220177], dtype=float32), array([-1.3346303], dtype=float32), array([-1.4954739], dtype=float32), array([-1.4691716], dtype=float32), array([-0.6825054], dtype=float32), array([-1.1918697], dtype=float32), array([-1.1578648], dtype=float32), array([-1.3932872], dtype=float32), array([-0.9622179], dtype=float32), array([-1.246829], dtype=float32), array([-0.7215962], dtype=float32), array([-1.570545], dtype=float32), array([-0.8537884], dtype=float32), array([-1.2648162], dtype=float32), array([-1.0690297], dtype=float32), array([-0.9846968], dtype=float32), array([-1.5450335], dtype=float32), array([-1.1470735], dtype=float32), array([-0.8522016], dtype=float32), array([-0.997749], dtype=float32), array([-0.74790144], dtype=float32), array([-0.89970094], dtype=float32), array([-1.2214576], dtype=float32), array([-1.5047466], dtype=float32), array([-1.578782], dtype=float32), array([-1.1639438], dtype=float32), array([-1.0490665], dtype=float32), array([-0.92206675], dtype=float32), array([-0.6468483], dtype=float32), array([-1.12426], dtype=float32), array([-1.443362], dtype=float32), array([-0.91580325], dtype=float32), array([-1.8041735], dtype=float32), array([-1.5137541], dtype=float32), array([-1.833692], dtype=float32), array([-0.92096746], dtype=float32), array([-0.93194556], dtype=float32), array([-1.1984354], dtype=float32), array([-1.1924897], dtype=float32), array([-1.4033513], dtype=float32), array([-1.0217952], dtype=float32)]\n"
          ]
        }
      ]
    },
    {
      "cell_type": "code",
      "source": [
        "from sklearn.metrics import mean_squared_error"
      ],
      "metadata": {
        "id": "ZE8TkUdxVAeG"
      },
      "execution_count": null,
      "outputs": []
    },
    {
      "cell_type": "code",
      "source": [
        "mean_squared_error(y_test,final_preds)"
      ],
      "metadata": {
        "colab": {
          "base_uri": "https://localhost:8080/"
        },
        "id": "eVFDClilVDaZ",
        "outputId": "d23ffdef-90bd-4979-e66c-48c8726c4085"
      },
      "execution_count": null,
      "outputs": [
        {
          "output_type": "execute_result",
          "data": {
            "text/plain": [
              "177.97604179669054"
            ]
          },
          "metadata": {},
          "execution_count": 55
        }
      ]
    },
    {
      "cell_type": "code",
      "source": [
        "from sklearn.metrics import mean_absolute_error"
      ],
      "metadata": {
        "id": "izyffirHVGUp"
      },
      "execution_count": null,
      "outputs": []
    },
    {
      "cell_type": "code",
      "source": [
        "mean_absolute_error(y_test,final_preds)"
      ],
      "metadata": {
        "colab": {
          "base_uri": "https://localhost:8080/"
        },
        "id": "VurD_dHcVJ-M",
        "outputId": "450d89bc-7822-4873-85ea-8af2a76a1418"
      },
      "execution_count": null,
      "outputs": [
        {
          "output_type": "execute_result",
          "data": {
            "text/plain": [
              "12.931476595028778"
            ]
          },
          "metadata": {},
          "execution_count": 57
        }
      ]
    },
    {
      "cell_type": "code",
      "source": [
        "from sklearn.metrics import r2_score"
      ],
      "metadata": {
        "id": "D-cqisSNVMbd"
      },
      "execution_count": null,
      "outputs": []
    },
    {
      "cell_type": "code",
      "source": [
        "r2_score(y_test,final_preds)"
      ],
      "metadata": {
        "colab": {
          "base_uri": "https://localhost:8080/"
        },
        "id": "ajXtSeykVO8L",
        "outputId": "83fcdfd4-1952-4363-f055-390c83b5055f"
      },
      "execution_count": null,
      "outputs": [
        {
          "output_type": "execute_result",
          "data": {
            "text/plain": [
              "-15.496349022132616"
            ]
          },
          "metadata": {},
          "execution_count": 59
        }
      ]
    },
    {
      "cell_type": "code",
      "source": [
        "list_pred=[]\n",
        "for num in final_preds:\n",
        "    list_pred.append(num[0])"
      ],
      "metadata": {
        "id": "pC8EnKrTVRbj"
      },
      "execution_count": null,
      "outputs": []
    },
    {
      "cell_type": "code",
      "source": [
        "d = {'y_test': y_test, 'final_preds': list_pred}\n",
        "df = pd.DataFrame(data=d)\n",
        "df.round(2)[:10]"
      ],
      "metadata": {
        "colab": {
          "base_uri": "https://localhost:8080/",
          "height": 363
        },
        "id": "PAo-T-2VVT8a",
        "outputId": "dfbb779f-62cc-41ba-f4ae-b7b7707bb7b1"
      },
      "execution_count": null,
      "outputs": [
        {
          "output_type": "execute_result",
          "data": {
            "text/plain": [
              "     y_test  final_preds\n",
              "153      13        -1.04\n",
              "177       8        -1.43\n",
              "292      14        -1.22\n",
              "242      11        -1.75\n",
              "379      10        -1.36\n",
              "388      12        -1.29\n",
              "321      15        -1.90\n",
              "113      18        -0.42\n",
              "254      10        -1.23\n",
              "480      10        -1.13"
            ],
            "text/html": [
              "\n",
              "  <div id=\"df-c1e12751-19e2-4110-8d59-8905f63de014\" class=\"colab-df-container\">\n",
              "    <div>\n",
              "<style scoped>\n",
              "    .dataframe tbody tr th:only-of-type {\n",
              "        vertical-align: middle;\n",
              "    }\n",
              "\n",
              "    .dataframe tbody tr th {\n",
              "        vertical-align: top;\n",
              "    }\n",
              "\n",
              "    .dataframe thead th {\n",
              "        text-align: right;\n",
              "    }\n",
              "</style>\n",
              "<table border=\"1\" class=\"dataframe\">\n",
              "  <thead>\n",
              "    <tr style=\"text-align: right;\">\n",
              "      <th></th>\n",
              "      <th>y_test</th>\n",
              "      <th>final_preds</th>\n",
              "    </tr>\n",
              "  </thead>\n",
              "  <tbody>\n",
              "    <tr>\n",
              "      <th>153</th>\n",
              "      <td>13</td>\n",
              "      <td>-1.04</td>\n",
              "    </tr>\n",
              "    <tr>\n",
              "      <th>177</th>\n",
              "      <td>8</td>\n",
              "      <td>-1.43</td>\n",
              "    </tr>\n",
              "    <tr>\n",
              "      <th>292</th>\n",
              "      <td>14</td>\n",
              "      <td>-1.22</td>\n",
              "    </tr>\n",
              "    <tr>\n",
              "      <th>242</th>\n",
              "      <td>11</td>\n",
              "      <td>-1.75</td>\n",
              "    </tr>\n",
              "    <tr>\n",
              "      <th>379</th>\n",
              "      <td>10</td>\n",
              "      <td>-1.36</td>\n",
              "    </tr>\n",
              "    <tr>\n",
              "      <th>388</th>\n",
              "      <td>12</td>\n",
              "      <td>-1.29</td>\n",
              "    </tr>\n",
              "    <tr>\n",
              "      <th>321</th>\n",
              "      <td>15</td>\n",
              "      <td>-1.90</td>\n",
              "    </tr>\n",
              "    <tr>\n",
              "      <th>113</th>\n",
              "      <td>18</td>\n",
              "      <td>-0.42</td>\n",
              "    </tr>\n",
              "    <tr>\n",
              "      <th>254</th>\n",
              "      <td>10</td>\n",
              "      <td>-1.23</td>\n",
              "    </tr>\n",
              "    <tr>\n",
              "      <th>480</th>\n",
              "      <td>10</td>\n",
              "      <td>-1.13</td>\n",
              "    </tr>\n",
              "  </tbody>\n",
              "</table>\n",
              "</div>\n",
              "    <div class=\"colab-df-buttons\">\n",
              "\n",
              "  <div class=\"colab-df-container\">\n",
              "    <button class=\"colab-df-convert\" onclick=\"convertToInteractive('df-c1e12751-19e2-4110-8d59-8905f63de014')\"\n",
              "            title=\"Convert this dataframe to an interactive table.\"\n",
              "            style=\"display:none;\">\n",
              "\n",
              "  <svg xmlns=\"http://www.w3.org/2000/svg\" height=\"24px\" viewBox=\"0 -960 960 960\">\n",
              "    <path d=\"M120-120v-720h720v720H120Zm60-500h600v-160H180v160Zm220 220h160v-160H400v160Zm0 220h160v-160H400v160ZM180-400h160v-160H180v160Zm440 0h160v-160H620v160ZM180-180h160v-160H180v160Zm440 0h160v-160H620v160Z\"/>\n",
              "  </svg>\n",
              "    </button>\n",
              "\n",
              "  <style>\n",
              "    .colab-df-container {\n",
              "      display:flex;\n",
              "      gap: 12px;\n",
              "    }\n",
              "\n",
              "    .colab-df-convert {\n",
              "      background-color: #E8F0FE;\n",
              "      border: none;\n",
              "      border-radius: 50%;\n",
              "      cursor: pointer;\n",
              "      display: none;\n",
              "      fill: #1967D2;\n",
              "      height: 32px;\n",
              "      padding: 0 0 0 0;\n",
              "      width: 32px;\n",
              "    }\n",
              "\n",
              "    .colab-df-convert:hover {\n",
              "      background-color: #E2EBFA;\n",
              "      box-shadow: 0px 1px 2px rgba(60, 64, 67, 0.3), 0px 1px 3px 1px rgba(60, 64, 67, 0.15);\n",
              "      fill: #174EA6;\n",
              "    }\n",
              "\n",
              "    .colab-df-buttons div {\n",
              "      margin-bottom: 4px;\n",
              "    }\n",
              "\n",
              "    [theme=dark] .colab-df-convert {\n",
              "      background-color: #3B4455;\n",
              "      fill: #D2E3FC;\n",
              "    }\n",
              "\n",
              "    [theme=dark] .colab-df-convert:hover {\n",
              "      background-color: #434B5C;\n",
              "      box-shadow: 0px 1px 3px 1px rgba(0, 0, 0, 0.15);\n",
              "      filter: drop-shadow(0px 1px 2px rgba(0, 0, 0, 0.3));\n",
              "      fill: #FFFFFF;\n",
              "    }\n",
              "  </style>\n",
              "\n",
              "    <script>\n",
              "      const buttonEl =\n",
              "        document.querySelector('#df-c1e12751-19e2-4110-8d59-8905f63de014 button.colab-df-convert');\n",
              "      buttonEl.style.display =\n",
              "        google.colab.kernel.accessAllowed ? 'block' : 'none';\n",
              "\n",
              "      async function convertToInteractive(key) {\n",
              "        const element = document.querySelector('#df-c1e12751-19e2-4110-8d59-8905f63de014');\n",
              "        const dataTable =\n",
              "          await google.colab.kernel.invokeFunction('convertToInteractive',\n",
              "                                                    [key], {});\n",
              "        if (!dataTable) return;\n",
              "\n",
              "        const docLinkHtml = 'Like what you see? Visit the ' +\n",
              "          '<a target=\"_blank\" href=https://colab.research.google.com/notebooks/data_table.ipynb>data table notebook</a>'\n",
              "          + ' to learn more about interactive tables.';\n",
              "        element.innerHTML = '';\n",
              "        dataTable['output_type'] = 'display_data';\n",
              "        await google.colab.output.renderOutput(dataTable, element);\n",
              "        const docLink = document.createElement('div');\n",
              "        docLink.innerHTML = docLinkHtml;\n",
              "        element.appendChild(docLink);\n",
              "      }\n",
              "    </script>\n",
              "  </div>\n",
              "\n",
              "\n",
              "<div id=\"df-a2a1da49-836a-40ba-b7f6-46f22bba771e\">\n",
              "  <button class=\"colab-df-quickchart\" onclick=\"quickchart('df-a2a1da49-836a-40ba-b7f6-46f22bba771e')\"\n",
              "            title=\"Suggest charts\"\n",
              "            style=\"display:none;\">\n",
              "\n",
              "<svg xmlns=\"http://www.w3.org/2000/svg\" height=\"24px\"viewBox=\"0 0 24 24\"\n",
              "     width=\"24px\">\n",
              "    <g>\n",
              "        <path d=\"M19 3H5c-1.1 0-2 .9-2 2v14c0 1.1.9 2 2 2h14c1.1 0 2-.9 2-2V5c0-1.1-.9-2-2-2zM9 17H7v-7h2v7zm4 0h-2V7h2v10zm4 0h-2v-4h2v4z\"/>\n",
              "    </g>\n",
              "</svg>\n",
              "  </button>\n",
              "\n",
              "<style>\n",
              "  .colab-df-quickchart {\n",
              "      --bg-color: #E8F0FE;\n",
              "      --fill-color: #1967D2;\n",
              "      --hover-bg-color: #E2EBFA;\n",
              "      --hover-fill-color: #174EA6;\n",
              "      --disabled-fill-color: #AAA;\n",
              "      --disabled-bg-color: #DDD;\n",
              "  }\n",
              "\n",
              "  [theme=dark] .colab-df-quickchart {\n",
              "      --bg-color: #3B4455;\n",
              "      --fill-color: #D2E3FC;\n",
              "      --hover-bg-color: #434B5C;\n",
              "      --hover-fill-color: #FFFFFF;\n",
              "      --disabled-bg-color: #3B4455;\n",
              "      --disabled-fill-color: #666;\n",
              "  }\n",
              "\n",
              "  .colab-df-quickchart {\n",
              "    background-color: var(--bg-color);\n",
              "    border: none;\n",
              "    border-radius: 50%;\n",
              "    cursor: pointer;\n",
              "    display: none;\n",
              "    fill: var(--fill-color);\n",
              "    height: 32px;\n",
              "    padding: 0;\n",
              "    width: 32px;\n",
              "  }\n",
              "\n",
              "  .colab-df-quickchart:hover {\n",
              "    background-color: var(--hover-bg-color);\n",
              "    box-shadow: 0 1px 2px rgba(60, 64, 67, 0.3), 0 1px 3px 1px rgba(60, 64, 67, 0.15);\n",
              "    fill: var(--button-hover-fill-color);\n",
              "  }\n",
              "\n",
              "  .colab-df-quickchart-complete:disabled,\n",
              "  .colab-df-quickchart-complete:disabled:hover {\n",
              "    background-color: var(--disabled-bg-color);\n",
              "    fill: var(--disabled-fill-color);\n",
              "    box-shadow: none;\n",
              "  }\n",
              "\n",
              "  .colab-df-spinner {\n",
              "    border: 2px solid var(--fill-color);\n",
              "    border-color: transparent;\n",
              "    border-bottom-color: var(--fill-color);\n",
              "    animation:\n",
              "      spin 1s steps(1) infinite;\n",
              "  }\n",
              "\n",
              "  @keyframes spin {\n",
              "    0% {\n",
              "      border-color: transparent;\n",
              "      border-bottom-color: var(--fill-color);\n",
              "      border-left-color: var(--fill-color);\n",
              "    }\n",
              "    20% {\n",
              "      border-color: transparent;\n",
              "      border-left-color: var(--fill-color);\n",
              "      border-top-color: var(--fill-color);\n",
              "    }\n",
              "    30% {\n",
              "      border-color: transparent;\n",
              "      border-left-color: var(--fill-color);\n",
              "      border-top-color: var(--fill-color);\n",
              "      border-right-color: var(--fill-color);\n",
              "    }\n",
              "    40% {\n",
              "      border-color: transparent;\n",
              "      border-right-color: var(--fill-color);\n",
              "      border-top-color: var(--fill-color);\n",
              "    }\n",
              "    60% {\n",
              "      border-color: transparent;\n",
              "      border-right-color: var(--fill-color);\n",
              "    }\n",
              "    80% {\n",
              "      border-color: transparent;\n",
              "      border-right-color: var(--fill-color);\n",
              "      border-bottom-color: var(--fill-color);\n",
              "    }\n",
              "    90% {\n",
              "      border-color: transparent;\n",
              "      border-bottom-color: var(--fill-color);\n",
              "    }\n",
              "  }\n",
              "</style>\n",
              "\n",
              "  <script>\n",
              "    async function quickchart(key) {\n",
              "      const quickchartButtonEl =\n",
              "        document.querySelector('#' + key + ' button');\n",
              "      quickchartButtonEl.disabled = true;  // To prevent multiple clicks.\n",
              "      quickchartButtonEl.classList.add('colab-df-spinner');\n",
              "      try {\n",
              "        const charts = await google.colab.kernel.invokeFunction(\n",
              "            'suggestCharts', [key], {});\n",
              "      } catch (error) {\n",
              "        console.error('Error during call to suggestCharts:', error);\n",
              "      }\n",
              "      quickchartButtonEl.classList.remove('colab-df-spinner');\n",
              "      quickchartButtonEl.classList.add('colab-df-quickchart-complete');\n",
              "    }\n",
              "    (() => {\n",
              "      let quickchartButtonEl =\n",
              "        document.querySelector('#df-a2a1da49-836a-40ba-b7f6-46f22bba771e button');\n",
              "      quickchartButtonEl.style.display =\n",
              "        google.colab.kernel.accessAllowed ? 'block' : 'none';\n",
              "    })();\n",
              "  </script>\n",
              "</div>\n",
              "\n",
              "    </div>\n",
              "  </div>\n"
            ],
            "application/vnd.google.colaboratory.intrinsic+json": {
              "type": "dataframe",
              "summary": "{\n  \"name\": \"df\",\n  \"rows\": 10,\n  \"fields\": [\n    {\n      \"column\": \"y_test\",\n      \"properties\": {\n        \"dtype\": \"number\",\n        \"std\": 2,\n        \"min\": 8,\n        \"max\": 18,\n        \"num_unique_values\": 8,\n        \"samples\": [\n          8,\n          12,\n          13\n        ],\n        \"semantic_type\": \"\",\n        \"description\": \"\"\n      }\n    },\n    {\n      \"column\": \"final_preds\",\n      \"properties\": {\n        \"dtype\": \"float32\",\n        \"num_unique_values\": 10,\n        \"samples\": [\n          -1.2300000190734863,\n          -1.4299999475479126,\n          -1.2899999618530273\n        ],\n        \"semantic_type\": \"\",\n        \"description\": \"\"\n      }\n    }\n  ]\n}"
            }
          },
          "metadata": {},
          "execution_count": 61
        }
      ]
    },
    {
      "cell_type": "code",
      "source": [
        "from sklearn.model_selection import train_test_split\n",
        "X_train, X_test, y_train, y_test = train_test_split(data_mat, y_mat)"
      ],
      "metadata": {
        "id": "hBgmB0fWVXHg"
      },
      "execution_count": null,
      "outputs": []
    },
    {
      "cell_type": "code",
      "source": [
        "from sklearn.preprocessing import StandardScaler\n",
        "scaler = StandardScaler()\n",
        "X_train['absences'] = scaler.fit_transform(X_train['absences'].values.reshape(-1, 1))\n",
        "X_test['absences'] = scaler.fit_transform(X_test['absences'].values.reshape(-1, 1))"
      ],
      "metadata": {
        "id": "FHk-VZILVZjK"
      },
      "execution_count": null,
      "outputs": []
    },
    {
      "cell_type": "code",
      "source": [
        "import tensorflow as tf\n",
        "\n",
        "def input_fn(features, labels, batch_size=50, num_epochs=10, shuffle=False):\n",
        "    dataset = tf.data.Dataset.from_tensor_slices((dict(features), labels))\n",
        "    if shuffle:\n",
        "        dataset = dataset.shuffle(buffer_size=len(features))\n",
        "    dataset = dataset.repeat(num_epochs).batch(batch_size)\n",
        "    return dataset\n"
      ],
      "metadata": {
        "id": "8VR40AGRVb7d"
      },
      "execution_count": null,
      "outputs": []
    },
    {
      "cell_type": "code",
      "source": [
        "import pandas as pd\n",
        "import numpy as np\n",
        "from tensorflow import keras\n",
        "from tensorflow.keras import layers\n",
        "\n",
        "X_encoded = pd.get_dummies(X_train)\n",
        "\n",
        "\n",
        "y_numeric = pd.to_numeric(y_train, errors='coerce')\n",
        "\n",
        "\n",
        "X_encoded = X_encoded.fillna(0)\n",
        "y_numeric = y_numeric.fillna(0)\n",
        "\n",
        "\n",
        "X_np = X_encoded.to_numpy().astype(np.float32)\n",
        "y_np = y_numeric.to_numpy().reshape(-1, 1).astype(np.float32)\n",
        "\n",
        "\n",
        "model = keras.Sequential([\n",
        "    layers.Dense(64, activation='relu', input_shape=[X_np.shape[1]]),\n",
        "    layers.Dense(64, activation='relu'),\n",
        "    layers.Dense(64, activation='relu'),\n",
        "    layers.Dense(64, activation='relu'),\n",
        "    layers.Dense(1)\n",
        "])\n",
        "\n",
        "model.compile(optimizer=keras.optimizers.Adam(0.001), loss='mse')\n",
        "\n",
        "\n",
        "model.fit(X_np, y_np, batch_size=50, epochs=10)\n",
        "\n",
        "\n",
        "\n",
        "\n",
        "\n"
      ],
      "metadata": {
        "colab": {
          "base_uri": "https://localhost:8080/"
        },
        "id": "35nY-MboVw1Y",
        "outputId": "93b95498-771a-430d-fbcd-a60cb432cae3"
      },
      "execution_count": null,
      "outputs": [
        {
          "output_type": "stream",
          "name": "stdout",
          "text": [
            "Epoch 1/10\n",
            "\u001b[1m6/6\u001b[0m \u001b[32m━━━━━━━━━━━━━━━━━━━━\u001b[0m\u001b[37m\u001b[0m \u001b[1m3s\u001b[0m 7ms/step - loss: 149.0603\n",
            "Epoch 2/10\n",
            "\u001b[1m6/6\u001b[0m \u001b[32m━━━━━━━━━━━━━━━━━━━━\u001b[0m\u001b[37m\u001b[0m \u001b[1m0s\u001b[0m 6ms/step - loss: 88.2312 \n",
            "Epoch 3/10\n",
            "\u001b[1m6/6\u001b[0m \u001b[32m━━━━━━━━━━━━━━━━━━━━\u001b[0m\u001b[37m\u001b[0m \u001b[1m0s\u001b[0m 6ms/step - loss: 45.2194 \n",
            "Epoch 4/10\n",
            "\u001b[1m6/6\u001b[0m \u001b[32m━━━━━━━━━━━━━━━━━━━━\u001b[0m\u001b[37m\u001b[0m \u001b[1m0s\u001b[0m 6ms/step - loss: 23.7606 \n",
            "Epoch 5/10\n",
            "\u001b[1m6/6\u001b[0m \u001b[32m━━━━━━━━━━━━━━━━━━━━\u001b[0m\u001b[37m\u001b[0m \u001b[1m0s\u001b[0m 6ms/step - loss: 30.5829 \n",
            "Epoch 6/10\n",
            "\u001b[1m6/6\u001b[0m \u001b[32m━━━━━━━━━━━━━━━━━━━━\u001b[0m\u001b[37m\u001b[0m \u001b[1m0s\u001b[0m 6ms/step - loss: 21.4215 \n",
            "Epoch 7/10\n",
            "\u001b[1m6/6\u001b[0m \u001b[32m━━━━━━━━━━━━━━━━━━━━\u001b[0m\u001b[37m\u001b[0m \u001b[1m0s\u001b[0m 6ms/step - loss: 23.4641 \n",
            "Epoch 8/10\n",
            "\u001b[1m6/6\u001b[0m \u001b[32m━━━━━━━━━━━━━━━━━━━━\u001b[0m\u001b[37m\u001b[0m \u001b[1m0s\u001b[0m 6ms/step - loss: 21.0114 \n",
            "Epoch 9/10\n",
            "\u001b[1m6/6\u001b[0m \u001b[32m━━━━━━━━━━━━━━━━━━━━\u001b[0m\u001b[37m\u001b[0m \u001b[1m0s\u001b[0m 6ms/step - loss: 21.5814 \n",
            "Epoch 10/10\n",
            "\u001b[1m6/6\u001b[0m \u001b[32m━━━━━━━━━━━━━━━━━━━━\u001b[0m\u001b[37m\u001b[0m \u001b[1m0s\u001b[0m 7ms/step - loss: 20.6236 \n"
          ]
        },
        {
          "output_type": "execute_result",
          "data": {
            "text/plain": [
              "<keras.src.callbacks.history.History at 0x791557a5f110>"
            ]
          },
          "metadata": {},
          "execution_count": 73
        }
      ]
    },
    {
      "cell_type": "code",
      "source": [
        "model.fit(X_np, y_np, batch_size=50, epochs=10)\n"
      ],
      "metadata": {
        "colab": {
          "base_uri": "https://localhost:8080/"
        },
        "id": "f8AyUCh2Wosx",
        "outputId": "8b9644cd-9055-4225-dc9b-790a3466029a"
      },
      "execution_count": null,
      "outputs": [
        {
          "output_type": "stream",
          "name": "stdout",
          "text": [
            "Epoch 1/10\n",
            "\u001b[1m6/6\u001b[0m \u001b[32m━━━━━━━━━━━━━━━━━━━━\u001b[0m\u001b[37m\u001b[0m \u001b[1m0s\u001b[0m 10ms/step - loss: 21.9025\n",
            "Epoch 2/10\n",
            "\u001b[1m6/6\u001b[0m \u001b[32m━━━━━━━━━━━━━━━━━━━━\u001b[0m\u001b[37m\u001b[0m \u001b[1m0s\u001b[0m 10ms/step - loss: 19.9757\n",
            "Epoch 3/10\n",
            "\u001b[1m6/6\u001b[0m \u001b[32m━━━━━━━━━━━━━━━━━━━━\u001b[0m\u001b[37m\u001b[0m \u001b[1m0s\u001b[0m 9ms/step - loss: 19.4889 \n",
            "Epoch 4/10\n",
            "\u001b[1m6/6\u001b[0m \u001b[32m━━━━━━━━━━━━━━━━━━━━\u001b[0m\u001b[37m\u001b[0m \u001b[1m0s\u001b[0m 9ms/step - loss: 19.6729 \n",
            "Epoch 5/10\n",
            "\u001b[1m6/6\u001b[0m \u001b[32m━━━━━━━━━━━━━━━━━━━━\u001b[0m\u001b[37m\u001b[0m \u001b[1m0s\u001b[0m 9ms/step - loss: 19.3919 \n",
            "Epoch 6/10\n",
            "\u001b[1m6/6\u001b[0m \u001b[32m━━━━━━━━━━━━━━━━━━━━\u001b[0m\u001b[37m\u001b[0m \u001b[1m0s\u001b[0m 10ms/step - loss: 18.3470\n",
            "Epoch 7/10\n",
            "\u001b[1m6/6\u001b[0m \u001b[32m━━━━━━━━━━━━━━━━━━━━\u001b[0m\u001b[37m\u001b[0m \u001b[1m0s\u001b[0m 9ms/step - loss: 17.4433 \n",
            "Epoch 8/10\n",
            "\u001b[1m6/6\u001b[0m \u001b[32m━━━━━━━━━━━━━━━━━━━━\u001b[0m\u001b[37m\u001b[0m \u001b[1m0s\u001b[0m 8ms/step - loss: 16.1819 \n",
            "Epoch 9/10\n",
            "\u001b[1m6/6\u001b[0m \u001b[32m━━━━━━━━━━━━━━━━━━━━\u001b[0m\u001b[37m\u001b[0m \u001b[1m0s\u001b[0m 10ms/step - loss: 16.9759\n",
            "Epoch 10/10\n",
            "\u001b[1m6/6\u001b[0m \u001b[32m━━━━━━━━━━━━━━━━━━━━\u001b[0m\u001b[37m\u001b[0m \u001b[1m0s\u001b[0m 9ms/step - loss: 16.3772 \n"
          ]
        },
        {
          "output_type": "execute_result",
          "data": {
            "text/plain": [
              "<keras.src.callbacks.history.History at 0x79154b52f4d0>"
            ]
          },
          "metadata": {},
          "execution_count": 75
        }
      ]
    },
    {
      "cell_type": "code",
      "source": [
        "X_test_encoded = pd.get_dummies(X_test)\n",
        "\n",
        "\n",
        "X_test_encoded = X_test_encoded.reindex(columns=X_encoded.columns, fill_value=0)\n",
        "\n",
        "\n",
        "X_test_np = X_test_encoded.to_numpy().astype(np.float32)\n",
        "predictions = model.predict(X_test_np)\n",
        "\n",
        "X_test_encoded = pd.get_dummies(X_test)\n",
        "X_test_encoded = X_test_encoded.reindex(columns=X_encoded.columns, fill_value=0)\n",
        "X_test_np = X_test_encoded.to_numpy().astype(np.float32)\n",
        "\n",
        "\n",
        "predictions = model.predict(X_test_np)\n",
        "\n",
        "\n",
        "predictions = predictions.flatten()\n"
      ],
      "metadata": {
        "colab": {
          "base_uri": "https://localhost:8080/"
        },
        "id": "si9Ml7XyW2U0",
        "outputId": "beeda646-152a-4f0f-e974-b755e4e5933c"
      },
      "execution_count": null,
      "outputs": [
        {
          "output_type": "stream",
          "name": "stdout",
          "text": [
            "\u001b[1m4/4\u001b[0m \u001b[32m━━━━━━━━━━━━━━━━━━━━\u001b[0m\u001b[37m\u001b[0m \u001b[1m0s\u001b[0m 23ms/step\n",
            "\u001b[1m4/4\u001b[0m \u001b[32m━━━━━━━━━━━━━━━━━━━━\u001b[0m\u001b[37m\u001b[0m \u001b[1m0s\u001b[0m 10ms/step\n"
          ]
        }
      ]
    },
    {
      "cell_type": "code",
      "source": [
        "\n",
        "X_test_encoded = pd.get_dummies(X_test)\n",
        "X_test_encoded = X_test_encoded.reindex(columns=X_encoded.columns, fill_value=0)\n",
        "X_test_np = X_test_encoded.to_numpy().astype(np.float32)\n",
        "\n",
        "\n",
        "predictions = model.predict(X_test_np)\n",
        "\n",
        "final_preds = predictions.flatten().tolist()\n"
      ],
      "metadata": {
        "colab": {
          "base_uri": "https://localhost:8080/"
        },
        "id": "lDW3cdNsXErM",
        "outputId": "d3242e14-a755-48f2-d016-b982ece68254"
      },
      "execution_count": null,
      "outputs": [
        {
          "output_type": "stream",
          "name": "stdout",
          "text": [
            "\u001b[1m4/4\u001b[0m \u001b[32m━━━━━━━━━━━━━━━━━━━━\u001b[0m\u001b[37m\u001b[0m \u001b[1m0s\u001b[0m 7ms/step \n"
          ]
        }
      ]
    },
    {
      "cell_type": "code",
      "source": [
        "from sklearn.metrics import mean_squared_error\n",
        "mean_squared_error(y_test,final_preds)"
      ],
      "metadata": {
        "colab": {
          "base_uri": "https://localhost:8080/"
        },
        "id": "RpVh_CgHXSBZ",
        "outputId": "19ef49e7-7a7e-4b09-fc1a-d2173127d2df"
      },
      "execution_count": null,
      "outputs": [
        {
          "output_type": "execute_result",
          "data": {
            "text/plain": [
              "19.355003944330125"
            ]
          },
          "metadata": {},
          "execution_count": 79
        }
      ]
    },
    {
      "cell_type": "code",
      "source": [
        "from sklearn.metrics import mean_absolute_error\n",
        "mean_absolute_error(y_test,final_preds)"
      ],
      "metadata": {
        "colab": {
          "base_uri": "https://localhost:8080/"
        },
        "id": "f0xvZWdnXUra",
        "outputId": "2a27dca6-8bfd-4487-8274-1b022ca0fdf7"
      },
      "execution_count": null,
      "outputs": [
        {
          "output_type": "execute_result",
          "data": {
            "text/plain": [
              "3.264740312942351"
            ]
          },
          "metadata": {},
          "execution_count": 80
        }
      ]
    },
    {
      "cell_type": "code",
      "source": [
        "from sklearn.metrics import r2_score\n",
        "r2_score(y_test,final_preds)"
      ],
      "metadata": {
        "colab": {
          "base_uri": "https://localhost:8080/"
        },
        "id": "aLxlI7_BXXv2",
        "outputId": "c61d8267-97c4-4ad0-9c57-935b96fa1b7d"
      },
      "execution_count": null,
      "outputs": [
        {
          "output_type": "execute_result",
          "data": {
            "text/plain": [
              "0.09391290763097271"
            ]
          },
          "metadata": {},
          "execution_count": 81
        }
      ]
    },
    {
      "cell_type": "code",
      "source": [
        "\n",
        "list_pred = []\n",
        "for num in final_preds:\n",
        "    list_pred.append(num)\n",
        "\n",
        "\n",
        "\n",
        "\n",
        "d = {'y_test': y_test.to_numpy().flatten(), 'final_preds': list_pred}\n",
        "df = pd.DataFrame(data=d)\n",
        "\n",
        "\n",
        "df.round(2).head(10)\n"
      ],
      "metadata": {
        "colab": {
          "base_uri": "https://localhost:8080/",
          "height": 363
        },
        "id": "9-W8Oi9LXaMN",
        "outputId": "341f61f1-3e7c-4a4c-f0f9-6220ff616209"
      },
      "execution_count": null,
      "outputs": [
        {
          "output_type": "execute_result",
          "data": {
            "text/plain": [
              "   y_test  final_preds\n",
              "0       0        11.51\n",
              "1      11        10.73\n",
              "2      10        10.62\n",
              "3      11        10.89\n",
              "4       9        10.86\n",
              "5      13        10.20\n",
              "6      11        11.35\n",
              "7      12        10.12\n",
              "8      10         7.55\n",
              "9      11        11.23"
            ],
            "text/html": [
              "\n",
              "  <div id=\"df-bdcd1bb5-fb58-4742-a618-0b3fcbc91606\" class=\"colab-df-container\">\n",
              "    <div>\n",
              "<style scoped>\n",
              "    .dataframe tbody tr th:only-of-type {\n",
              "        vertical-align: middle;\n",
              "    }\n",
              "\n",
              "    .dataframe tbody tr th {\n",
              "        vertical-align: top;\n",
              "    }\n",
              "\n",
              "    .dataframe thead th {\n",
              "        text-align: right;\n",
              "    }\n",
              "</style>\n",
              "<table border=\"1\" class=\"dataframe\">\n",
              "  <thead>\n",
              "    <tr style=\"text-align: right;\">\n",
              "      <th></th>\n",
              "      <th>y_test</th>\n",
              "      <th>final_preds</th>\n",
              "    </tr>\n",
              "  </thead>\n",
              "  <tbody>\n",
              "    <tr>\n",
              "      <th>0</th>\n",
              "      <td>0</td>\n",
              "      <td>11.51</td>\n",
              "    </tr>\n",
              "    <tr>\n",
              "      <th>1</th>\n",
              "      <td>11</td>\n",
              "      <td>10.73</td>\n",
              "    </tr>\n",
              "    <tr>\n",
              "      <th>2</th>\n",
              "      <td>10</td>\n",
              "      <td>10.62</td>\n",
              "    </tr>\n",
              "    <tr>\n",
              "      <th>3</th>\n",
              "      <td>11</td>\n",
              "      <td>10.89</td>\n",
              "    </tr>\n",
              "    <tr>\n",
              "      <th>4</th>\n",
              "      <td>9</td>\n",
              "      <td>10.86</td>\n",
              "    </tr>\n",
              "    <tr>\n",
              "      <th>5</th>\n",
              "      <td>13</td>\n",
              "      <td>10.20</td>\n",
              "    </tr>\n",
              "    <tr>\n",
              "      <th>6</th>\n",
              "      <td>11</td>\n",
              "      <td>11.35</td>\n",
              "    </tr>\n",
              "    <tr>\n",
              "      <th>7</th>\n",
              "      <td>12</td>\n",
              "      <td>10.12</td>\n",
              "    </tr>\n",
              "    <tr>\n",
              "      <th>8</th>\n",
              "      <td>10</td>\n",
              "      <td>7.55</td>\n",
              "    </tr>\n",
              "    <tr>\n",
              "      <th>9</th>\n",
              "      <td>11</td>\n",
              "      <td>11.23</td>\n",
              "    </tr>\n",
              "  </tbody>\n",
              "</table>\n",
              "</div>\n",
              "    <div class=\"colab-df-buttons\">\n",
              "\n",
              "  <div class=\"colab-df-container\">\n",
              "    <button class=\"colab-df-convert\" onclick=\"convertToInteractive('df-bdcd1bb5-fb58-4742-a618-0b3fcbc91606')\"\n",
              "            title=\"Convert this dataframe to an interactive table.\"\n",
              "            style=\"display:none;\">\n",
              "\n",
              "  <svg xmlns=\"http://www.w3.org/2000/svg\" height=\"24px\" viewBox=\"0 -960 960 960\">\n",
              "    <path d=\"M120-120v-720h720v720H120Zm60-500h600v-160H180v160Zm220 220h160v-160H400v160Zm0 220h160v-160H400v160ZM180-400h160v-160H180v160Zm440 0h160v-160H620v160ZM180-180h160v-160H180v160Zm440 0h160v-160H620v160Z\"/>\n",
              "  </svg>\n",
              "    </button>\n",
              "\n",
              "  <style>\n",
              "    .colab-df-container {\n",
              "      display:flex;\n",
              "      gap: 12px;\n",
              "    }\n",
              "\n",
              "    .colab-df-convert {\n",
              "      background-color: #E8F0FE;\n",
              "      border: none;\n",
              "      border-radius: 50%;\n",
              "      cursor: pointer;\n",
              "      display: none;\n",
              "      fill: #1967D2;\n",
              "      height: 32px;\n",
              "      padding: 0 0 0 0;\n",
              "      width: 32px;\n",
              "    }\n",
              "\n",
              "    .colab-df-convert:hover {\n",
              "      background-color: #E2EBFA;\n",
              "      box-shadow: 0px 1px 2px rgba(60, 64, 67, 0.3), 0px 1px 3px 1px rgba(60, 64, 67, 0.15);\n",
              "      fill: #174EA6;\n",
              "    }\n",
              "\n",
              "    .colab-df-buttons div {\n",
              "      margin-bottom: 4px;\n",
              "    }\n",
              "\n",
              "    [theme=dark] .colab-df-convert {\n",
              "      background-color: #3B4455;\n",
              "      fill: #D2E3FC;\n",
              "    }\n",
              "\n",
              "    [theme=dark] .colab-df-convert:hover {\n",
              "      background-color: #434B5C;\n",
              "      box-shadow: 0px 1px 3px 1px rgba(0, 0, 0, 0.15);\n",
              "      filter: drop-shadow(0px 1px 2px rgba(0, 0, 0, 0.3));\n",
              "      fill: #FFFFFF;\n",
              "    }\n",
              "  </style>\n",
              "\n",
              "    <script>\n",
              "      const buttonEl =\n",
              "        document.querySelector('#df-bdcd1bb5-fb58-4742-a618-0b3fcbc91606 button.colab-df-convert');\n",
              "      buttonEl.style.display =\n",
              "        google.colab.kernel.accessAllowed ? 'block' : 'none';\n",
              "\n",
              "      async function convertToInteractive(key) {\n",
              "        const element = document.querySelector('#df-bdcd1bb5-fb58-4742-a618-0b3fcbc91606');\n",
              "        const dataTable =\n",
              "          await google.colab.kernel.invokeFunction('convertToInteractive',\n",
              "                                                    [key], {});\n",
              "        if (!dataTable) return;\n",
              "\n",
              "        const docLinkHtml = 'Like what you see? Visit the ' +\n",
              "          '<a target=\"_blank\" href=https://colab.research.google.com/notebooks/data_table.ipynb>data table notebook</a>'\n",
              "          + ' to learn more about interactive tables.';\n",
              "        element.innerHTML = '';\n",
              "        dataTable['output_type'] = 'display_data';\n",
              "        await google.colab.output.renderOutput(dataTable, element);\n",
              "        const docLink = document.createElement('div');\n",
              "        docLink.innerHTML = docLinkHtml;\n",
              "        element.appendChild(docLink);\n",
              "      }\n",
              "    </script>\n",
              "  </div>\n",
              "\n",
              "\n",
              "<div id=\"df-ff7df0e3-99c7-48a7-9a23-f9c39691304d\">\n",
              "  <button class=\"colab-df-quickchart\" onclick=\"quickchart('df-ff7df0e3-99c7-48a7-9a23-f9c39691304d')\"\n",
              "            title=\"Suggest charts\"\n",
              "            style=\"display:none;\">\n",
              "\n",
              "<svg xmlns=\"http://www.w3.org/2000/svg\" height=\"24px\"viewBox=\"0 0 24 24\"\n",
              "     width=\"24px\">\n",
              "    <g>\n",
              "        <path d=\"M19 3H5c-1.1 0-2 .9-2 2v14c0 1.1.9 2 2 2h14c1.1 0 2-.9 2-2V5c0-1.1-.9-2-2-2zM9 17H7v-7h2v7zm4 0h-2V7h2v10zm4 0h-2v-4h2v4z\"/>\n",
              "    </g>\n",
              "</svg>\n",
              "  </button>\n",
              "\n",
              "<style>\n",
              "  .colab-df-quickchart {\n",
              "      --bg-color: #E8F0FE;\n",
              "      --fill-color: #1967D2;\n",
              "      --hover-bg-color: #E2EBFA;\n",
              "      --hover-fill-color: #174EA6;\n",
              "      --disabled-fill-color: #AAA;\n",
              "      --disabled-bg-color: #DDD;\n",
              "  }\n",
              "\n",
              "  [theme=dark] .colab-df-quickchart {\n",
              "      --bg-color: #3B4455;\n",
              "      --fill-color: #D2E3FC;\n",
              "      --hover-bg-color: #434B5C;\n",
              "      --hover-fill-color: #FFFFFF;\n",
              "      --disabled-bg-color: #3B4455;\n",
              "      --disabled-fill-color: #666;\n",
              "  }\n",
              "\n",
              "  .colab-df-quickchart {\n",
              "    background-color: var(--bg-color);\n",
              "    border: none;\n",
              "    border-radius: 50%;\n",
              "    cursor: pointer;\n",
              "    display: none;\n",
              "    fill: var(--fill-color);\n",
              "    height: 32px;\n",
              "    padding: 0;\n",
              "    width: 32px;\n",
              "  }\n",
              "\n",
              "  .colab-df-quickchart:hover {\n",
              "    background-color: var(--hover-bg-color);\n",
              "    box-shadow: 0 1px 2px rgba(60, 64, 67, 0.3), 0 1px 3px 1px rgba(60, 64, 67, 0.15);\n",
              "    fill: var(--button-hover-fill-color);\n",
              "  }\n",
              "\n",
              "  .colab-df-quickchart-complete:disabled,\n",
              "  .colab-df-quickchart-complete:disabled:hover {\n",
              "    background-color: var(--disabled-bg-color);\n",
              "    fill: var(--disabled-fill-color);\n",
              "    box-shadow: none;\n",
              "  }\n",
              "\n",
              "  .colab-df-spinner {\n",
              "    border: 2px solid var(--fill-color);\n",
              "    border-color: transparent;\n",
              "    border-bottom-color: var(--fill-color);\n",
              "    animation:\n",
              "      spin 1s steps(1) infinite;\n",
              "  }\n",
              "\n",
              "  @keyframes spin {\n",
              "    0% {\n",
              "      border-color: transparent;\n",
              "      border-bottom-color: var(--fill-color);\n",
              "      border-left-color: var(--fill-color);\n",
              "    }\n",
              "    20% {\n",
              "      border-color: transparent;\n",
              "      border-left-color: var(--fill-color);\n",
              "      border-top-color: var(--fill-color);\n",
              "    }\n",
              "    30% {\n",
              "      border-color: transparent;\n",
              "      border-left-color: var(--fill-color);\n",
              "      border-top-color: var(--fill-color);\n",
              "      border-right-color: var(--fill-color);\n",
              "    }\n",
              "    40% {\n",
              "      border-color: transparent;\n",
              "      border-right-color: var(--fill-color);\n",
              "      border-top-color: var(--fill-color);\n",
              "    }\n",
              "    60% {\n",
              "      border-color: transparent;\n",
              "      border-right-color: var(--fill-color);\n",
              "    }\n",
              "    80% {\n",
              "      border-color: transparent;\n",
              "      border-right-color: var(--fill-color);\n",
              "      border-bottom-color: var(--fill-color);\n",
              "    }\n",
              "    90% {\n",
              "      border-color: transparent;\n",
              "      border-bottom-color: var(--fill-color);\n",
              "    }\n",
              "  }\n",
              "</style>\n",
              "\n",
              "  <script>\n",
              "    async function quickchart(key) {\n",
              "      const quickchartButtonEl =\n",
              "        document.querySelector('#' + key + ' button');\n",
              "      quickchartButtonEl.disabled = true;  // To prevent multiple clicks.\n",
              "      quickchartButtonEl.classList.add('colab-df-spinner');\n",
              "      try {\n",
              "        const charts = await google.colab.kernel.invokeFunction(\n",
              "            'suggestCharts', [key], {});\n",
              "      } catch (error) {\n",
              "        console.error('Error during call to suggestCharts:', error);\n",
              "      }\n",
              "      quickchartButtonEl.classList.remove('colab-df-spinner');\n",
              "      quickchartButtonEl.classList.add('colab-df-quickchart-complete');\n",
              "    }\n",
              "    (() => {\n",
              "      let quickchartButtonEl =\n",
              "        document.querySelector('#df-ff7df0e3-99c7-48a7-9a23-f9c39691304d button');\n",
              "      quickchartButtonEl.style.display =\n",
              "        google.colab.kernel.accessAllowed ? 'block' : 'none';\n",
              "    })();\n",
              "  </script>\n",
              "</div>\n",
              "\n",
              "    </div>\n",
              "  </div>\n"
            ],
            "application/vnd.google.colaboratory.intrinsic+json": {
              "type": "dataframe",
              "summary": "{\n  \"name\": \"df\",\n  \"rows\": 10,\n  \"fields\": [\n    {\n      \"column\": \"y_test\",\n      \"properties\": {\n        \"dtype\": \"number\",\n        \"std\": 3,\n        \"min\": 0,\n        \"max\": 13,\n        \"num_unique_values\": 6,\n        \"samples\": [\n          0,\n          11,\n          12\n        ],\n        \"semantic_type\": \"\",\n        \"description\": \"\"\n      }\n    },\n    {\n      \"column\": \"final_preds\",\n      \"properties\": {\n        \"dtype\": \"number\",\n        \"std\": 1.133384312578924,\n        \"min\": 7.55,\n        \"max\": 11.51,\n        \"num_unique_values\": 10,\n        \"samples\": [\n          7.55,\n          10.73,\n          10.2\n        ],\n        \"semantic_type\": \"\",\n        \"description\": \"\"\n      }\n    }\n  ]\n}"
            }
          },
          "metadata": {},
          "execution_count": 83
        }
      ]
    }
  ]
}